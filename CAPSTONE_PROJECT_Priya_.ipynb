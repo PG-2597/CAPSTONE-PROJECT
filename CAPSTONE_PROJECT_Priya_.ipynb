{
  "nbformat": 4,
  "nbformat_minor": 0,
  "metadata": {
    "colab": {
      "name": "CAPSTONE PROJECT_Priya Gupta_week17.ipynb",
      "provenance": [],
      "collapsed_sections": [],
      "authorship_tag": "ABX9TyOX3afA8bF5Zf/P+XkdFLWu",
      "include_colab_link": true
    },
    "kernelspec": {
      "name": "python3",
      "display_name": "Python 3"
    },
    "language_info": {
      "name": "python"
    }
  },
  "cells": [
    {
      "cell_type": "markdown",
      "metadata": {
        "id": "view-in-github",
        "colab_type": "text"
      },
      "source": [
        "<a href=\"https://colab.research.google.com/github/PG-2597/CAPSTONE-PROJECT/blob/main/CAPSTONE_PROJECT_Priya_Gupta_week17.ipynb\" target=\"_parent\"><img src=\"https://colab.research.google.com/assets/colab-badge.svg\" alt=\"Open In Colab\"/></a>"
      ]
    },
    {
      "cell_type": "markdown",
      "source": [
        "## **CAPSTONE PROJECT on OLYMPICS DATABASE**"
      ],
      "metadata": {
        "id": "oZv2yNTqMS2J"
      }
    },
    {
      "cell_type": "markdown",
      "source": [
        "## **Introduction to Dataset:-**\n",
        "\n",
        "\n",
        "Olympix dataset is the database of all the sports played in olympics in a range of years and details of the winners in those sports.\n",
        "\n",
        "\n",
        "**There are 8618 0bservations and 10 variables which are described below:-**\n",
        "\n",
        "\n",
        "\n",
        "**1. name:** This column displays the name of the players.\n",
        "\n",
        "**2. age:** Age of the players in that particular year in which they played the olympics.\n",
        "\n",
        "**3. country:** Country of the player.\n",
        "\n",
        "**4. year** Year of olympics in which they played or won.\n",
        "\n",
        "**5. Date_Given** Date at which they played or won.\n",
        "\n",
        " **6. sports**  Name of sport they played or won in.\n",
        "\n",
        "**7. gold_medal:** Number of total gold medals won by the player.\n",
        "\n",
        "**8. silver_medal:** Number of total silver medals won by the player.\n",
        "\n",
        "**9. brone_medal:** Number of total bronze medals won by the player.\n",
        "\n",
        "**10. total_medal:** Total Number of medals won by the player.\n"
      ],
      "metadata": {
        "id": "o7bI-ovEMvcG"
      }
    },
    {
      "cell_type": "markdown",
      "source": [
        "**Understanding of Dataset:**\n",
        "\n",
        "In the above dataset all the columns are self explanatory and can be easily understandable."
      ],
      "metadata": {
        "id": "5bTnAP4US_0d"
      }
    },
    {
      "cell_type": "markdown",
      "source": [
        "###PART-2(Python and DS)   "
      ],
      "metadata": {
        "id": "FfQnwvk2x2NK"
      }
    },
    {
      "cell_type": "markdown",
      "source": [
        "### Let’s Start with importing the required libraries:-\n",
        "\n",
        "**For Data manipulation and analysis, we will import numpy and pandas and for Data Visualization, we will import seaborn and matplotlib libraries.** "
      ],
      "metadata": {
        "id": "6PgCLUslyy3W"
      }
    },
    {
      "cell_type": "code",
      "source": [
        "import numpy as np #NumPy is a general-purpose array-processing package and deals with numerical values and arrays.\n",
        "import pandas as pd # pandas library deals with dataframes.\n",
        "import seaborn as sns # for visualization of statistical graphs\n",
        "from matplotlib import pyplot as plt # library built on NumPy arrays and use for data visualization"
      ],
      "metadata": {
        "id": "p70q-ZS9ycHK"
      },
      "execution_count": null,
      "outputs": []
    },
    {
      "cell_type": "code",
      "source": [
        "df = pd.read_csv('/content/olympics_data.csv.csv') #Reading the csv file\n",
        "df.head(10)"
      ],
      "metadata": {
        "colab": {
          "base_uri": "https://localhost:8080/",
          "height": 363
        },
        "id": "hbjKA40wzMv0",
        "outputId": "23881083-c72c-4491-f756-9ab1edb7647e"
      },
      "execution_count": null,
      "outputs": [
        {
          "output_type": "execute_result",
          "data": {
            "text/plain": [
              "               name   age        country  year  Date_Given      sports  \\\n",
              "0    Michael Phelps  23.0  United States  2008   8/24/2008    Swimming   \n",
              "1    Michael Phelps  19.0  United States  2004   8/29/2004    Swimming   \n",
              "2    Michael Phelps  27.0  United States  2012  08-12-2012    Swimming   \n",
              "3  Natalie Coughlin  25.0  United States  2008   8/24/2008    Swimming   \n",
              "4     Aleksey Nemov  24.0         Russia  2000  10-01-2000  Gymnastics   \n",
              "5     Alicia Coutts  24.0      Australia  2012  08-12-2012    Swimming   \n",
              "6    Missy Franklin  17.0  United States  2012  08-12-2012    Swimming   \n",
              "7       Ryan Lochte  27.0  United States  2012  08-12-2012    Swimming   \n",
              "8   Allison Schmitt  22.0  United States  2012  08-12-2012    Swimming   \n",
              "9  Natalie Coughlin  21.0  United States  2004   8/29/2004    Swimming   \n",
              "\n",
              "   gold_medal  silver_medal  brone_medal  total_medal  \n",
              "0           8             0            0            8  \n",
              "1           6             0            2            8  \n",
              "2           4             2            0            6  \n",
              "3           1             2            3            6  \n",
              "4           2             1            3            6  \n",
              "5           1             3            1            5  \n",
              "6           4             0            1            5  \n",
              "7           2             2            1            5  \n",
              "8           3             1            1            5  \n",
              "9           2             2            1            5  "
            ],
            "text/html": [
              "\n",
              "  <div id=\"df-190256c6-6734-46e0-bf67-e6e96ff7093a\">\n",
              "    <div class=\"colab-df-container\">\n",
              "      <div>\n",
              "<style scoped>\n",
              "    .dataframe tbody tr th:only-of-type {\n",
              "        vertical-align: middle;\n",
              "    }\n",
              "\n",
              "    .dataframe tbody tr th {\n",
              "        vertical-align: top;\n",
              "    }\n",
              "\n",
              "    .dataframe thead th {\n",
              "        text-align: right;\n",
              "    }\n",
              "</style>\n",
              "<table border=\"1\" class=\"dataframe\">\n",
              "  <thead>\n",
              "    <tr style=\"text-align: right;\">\n",
              "      <th></th>\n",
              "      <th>name</th>\n",
              "      <th>age</th>\n",
              "      <th>country</th>\n",
              "      <th>year</th>\n",
              "      <th>Date_Given</th>\n",
              "      <th>sports</th>\n",
              "      <th>gold_medal</th>\n",
              "      <th>silver_medal</th>\n",
              "      <th>brone_medal</th>\n",
              "      <th>total_medal</th>\n",
              "    </tr>\n",
              "  </thead>\n",
              "  <tbody>\n",
              "    <tr>\n",
              "      <th>0</th>\n",
              "      <td>Michael Phelps</td>\n",
              "      <td>23.0</td>\n",
              "      <td>United States</td>\n",
              "      <td>2008</td>\n",
              "      <td>8/24/2008</td>\n",
              "      <td>Swimming</td>\n",
              "      <td>8</td>\n",
              "      <td>0</td>\n",
              "      <td>0</td>\n",
              "      <td>8</td>\n",
              "    </tr>\n",
              "    <tr>\n",
              "      <th>1</th>\n",
              "      <td>Michael Phelps</td>\n",
              "      <td>19.0</td>\n",
              "      <td>United States</td>\n",
              "      <td>2004</td>\n",
              "      <td>8/29/2004</td>\n",
              "      <td>Swimming</td>\n",
              "      <td>6</td>\n",
              "      <td>0</td>\n",
              "      <td>2</td>\n",
              "      <td>8</td>\n",
              "    </tr>\n",
              "    <tr>\n",
              "      <th>2</th>\n",
              "      <td>Michael Phelps</td>\n",
              "      <td>27.0</td>\n",
              "      <td>United States</td>\n",
              "      <td>2012</td>\n",
              "      <td>08-12-2012</td>\n",
              "      <td>Swimming</td>\n",
              "      <td>4</td>\n",
              "      <td>2</td>\n",
              "      <td>0</td>\n",
              "      <td>6</td>\n",
              "    </tr>\n",
              "    <tr>\n",
              "      <th>3</th>\n",
              "      <td>Natalie Coughlin</td>\n",
              "      <td>25.0</td>\n",
              "      <td>United States</td>\n",
              "      <td>2008</td>\n",
              "      <td>8/24/2008</td>\n",
              "      <td>Swimming</td>\n",
              "      <td>1</td>\n",
              "      <td>2</td>\n",
              "      <td>3</td>\n",
              "      <td>6</td>\n",
              "    </tr>\n",
              "    <tr>\n",
              "      <th>4</th>\n",
              "      <td>Aleksey Nemov</td>\n",
              "      <td>24.0</td>\n",
              "      <td>Russia</td>\n",
              "      <td>2000</td>\n",
              "      <td>10-01-2000</td>\n",
              "      <td>Gymnastics</td>\n",
              "      <td>2</td>\n",
              "      <td>1</td>\n",
              "      <td>3</td>\n",
              "      <td>6</td>\n",
              "    </tr>\n",
              "    <tr>\n",
              "      <th>5</th>\n",
              "      <td>Alicia Coutts</td>\n",
              "      <td>24.0</td>\n",
              "      <td>Australia</td>\n",
              "      <td>2012</td>\n",
              "      <td>08-12-2012</td>\n",
              "      <td>Swimming</td>\n",
              "      <td>1</td>\n",
              "      <td>3</td>\n",
              "      <td>1</td>\n",
              "      <td>5</td>\n",
              "    </tr>\n",
              "    <tr>\n",
              "      <th>6</th>\n",
              "      <td>Missy Franklin</td>\n",
              "      <td>17.0</td>\n",
              "      <td>United States</td>\n",
              "      <td>2012</td>\n",
              "      <td>08-12-2012</td>\n",
              "      <td>Swimming</td>\n",
              "      <td>4</td>\n",
              "      <td>0</td>\n",
              "      <td>1</td>\n",
              "      <td>5</td>\n",
              "    </tr>\n",
              "    <tr>\n",
              "      <th>7</th>\n",
              "      <td>Ryan Lochte</td>\n",
              "      <td>27.0</td>\n",
              "      <td>United States</td>\n",
              "      <td>2012</td>\n",
              "      <td>08-12-2012</td>\n",
              "      <td>Swimming</td>\n",
              "      <td>2</td>\n",
              "      <td>2</td>\n",
              "      <td>1</td>\n",
              "      <td>5</td>\n",
              "    </tr>\n",
              "    <tr>\n",
              "      <th>8</th>\n",
              "      <td>Allison Schmitt</td>\n",
              "      <td>22.0</td>\n",
              "      <td>United States</td>\n",
              "      <td>2012</td>\n",
              "      <td>08-12-2012</td>\n",
              "      <td>Swimming</td>\n",
              "      <td>3</td>\n",
              "      <td>1</td>\n",
              "      <td>1</td>\n",
              "      <td>5</td>\n",
              "    </tr>\n",
              "    <tr>\n",
              "      <th>9</th>\n",
              "      <td>Natalie Coughlin</td>\n",
              "      <td>21.0</td>\n",
              "      <td>United States</td>\n",
              "      <td>2004</td>\n",
              "      <td>8/29/2004</td>\n",
              "      <td>Swimming</td>\n",
              "      <td>2</td>\n",
              "      <td>2</td>\n",
              "      <td>1</td>\n",
              "      <td>5</td>\n",
              "    </tr>\n",
              "  </tbody>\n",
              "</table>\n",
              "</div>\n",
              "      <button class=\"colab-df-convert\" onclick=\"convertToInteractive('df-190256c6-6734-46e0-bf67-e6e96ff7093a')\"\n",
              "              title=\"Convert this dataframe to an interactive table.\"\n",
              "              style=\"display:none;\">\n",
              "        \n",
              "  <svg xmlns=\"http://www.w3.org/2000/svg\" height=\"24px\"viewBox=\"0 0 24 24\"\n",
              "       width=\"24px\">\n",
              "    <path d=\"M0 0h24v24H0V0z\" fill=\"none\"/>\n",
              "    <path d=\"M18.56 5.44l.94 2.06.94-2.06 2.06-.94-2.06-.94-.94-2.06-.94 2.06-2.06.94zm-11 1L8.5 8.5l.94-2.06 2.06-.94-2.06-.94L8.5 2.5l-.94 2.06-2.06.94zm10 10l.94 2.06.94-2.06 2.06-.94-2.06-.94-.94-2.06-.94 2.06-2.06.94z\"/><path d=\"M17.41 7.96l-1.37-1.37c-.4-.4-.92-.59-1.43-.59-.52 0-1.04.2-1.43.59L10.3 9.45l-7.72 7.72c-.78.78-.78 2.05 0 2.83L4 21.41c.39.39.9.59 1.41.59.51 0 1.02-.2 1.41-.59l7.78-7.78 2.81-2.81c.8-.78.8-2.07 0-2.86zM5.41 20L4 18.59l7.72-7.72 1.47 1.35L5.41 20z\"/>\n",
              "  </svg>\n",
              "      </button>\n",
              "      \n",
              "  <style>\n",
              "    .colab-df-container {\n",
              "      display:flex;\n",
              "      flex-wrap:wrap;\n",
              "      gap: 12px;\n",
              "    }\n",
              "\n",
              "    .colab-df-convert {\n",
              "      background-color: #E8F0FE;\n",
              "      border: none;\n",
              "      border-radius: 50%;\n",
              "      cursor: pointer;\n",
              "      display: none;\n",
              "      fill: #1967D2;\n",
              "      height: 32px;\n",
              "      padding: 0 0 0 0;\n",
              "      width: 32px;\n",
              "    }\n",
              "\n",
              "    .colab-df-convert:hover {\n",
              "      background-color: #E2EBFA;\n",
              "      box-shadow: 0px 1px 2px rgba(60, 64, 67, 0.3), 0px 1px 3px 1px rgba(60, 64, 67, 0.15);\n",
              "      fill: #174EA6;\n",
              "    }\n",
              "\n",
              "    [theme=dark] .colab-df-convert {\n",
              "      background-color: #3B4455;\n",
              "      fill: #D2E3FC;\n",
              "    }\n",
              "\n",
              "    [theme=dark] .colab-df-convert:hover {\n",
              "      background-color: #434B5C;\n",
              "      box-shadow: 0px 1px 3px 1px rgba(0, 0, 0, 0.15);\n",
              "      filter: drop-shadow(0px 1px 2px rgba(0, 0, 0, 0.3));\n",
              "      fill: #FFFFFF;\n",
              "    }\n",
              "  </style>\n",
              "\n",
              "      <script>\n",
              "        const buttonEl =\n",
              "          document.querySelector('#df-190256c6-6734-46e0-bf67-e6e96ff7093a button.colab-df-convert');\n",
              "        buttonEl.style.display =\n",
              "          google.colab.kernel.accessAllowed ? 'block' : 'none';\n",
              "\n",
              "        async function convertToInteractive(key) {\n",
              "          const element = document.querySelector('#df-190256c6-6734-46e0-bf67-e6e96ff7093a');\n",
              "          const dataTable =\n",
              "            await google.colab.kernel.invokeFunction('convertToInteractive',\n",
              "                                                     [key], {});\n",
              "          if (!dataTable) return;\n",
              "\n",
              "          const docLinkHtml = 'Like what you see? Visit the ' +\n",
              "            '<a target=\"_blank\" href=https://colab.research.google.com/notebooks/data_table.ipynb>data table notebook</a>'\n",
              "            + ' to learn more about interactive tables.';\n",
              "          element.innerHTML = '';\n",
              "          dataTable['output_type'] = 'display_data';\n",
              "          await google.colab.output.renderOutput(dataTable, element);\n",
              "          const docLink = document.createElement('div');\n",
              "          docLink.innerHTML = docLinkHtml;\n",
              "          element.appendChild(docLink);\n",
              "        }\n",
              "      </script>\n",
              "    </div>\n",
              "  </div>\n",
              "  "
            ]
          },
          "metadata": {},
          "execution_count": 3
        }
      ]
    },
    {
      "cell_type": "markdown",
      "source": [
        "**Explanation:** Firstly, I read the excel file and load the data into a dataframe with name df. \n",
        "\n",
        "Then, I used head(10) method to display top 10 rows of our dataframe."
      ],
      "metadata": {
        "id": "sALs3sUj2Pzt"
      }
    },
    {
      "cell_type": "code",
      "source": [
        "df.info() "
      ],
      "metadata": {
        "colab": {
          "base_uri": "https://localhost:8080/"
        },
        "id": "8GFxQkdy2Obu",
        "outputId": "c1970392-7d78-473b-853b-46de98a7e10d"
      },
      "execution_count": null,
      "outputs": [
        {
          "output_type": "stream",
          "name": "stdout",
          "text": [
            "<class 'pandas.core.frame.DataFrame'>\n",
            "RangeIndex: 8618 entries, 0 to 8617\n",
            "Data columns (total 10 columns):\n",
            " #   Column        Non-Null Count  Dtype  \n",
            "---  ------        --------------  -----  \n",
            " 0   name          8613 non-null   object \n",
            " 1   age           8613 non-null   float64\n",
            " 2   country       8618 non-null   object \n",
            " 3   year          8618 non-null   int64  \n",
            " 4   Date_Given    8618 non-null   object \n",
            " 5   sports        8618 non-null   object \n",
            " 6   gold_medal    8618 non-null   int64  \n",
            " 7   silver_medal  8618 non-null   int64  \n",
            " 8   brone_medal   8618 non-null   int64  \n",
            " 9   total_medal   8618 non-null   int64  \n",
            "dtypes: float64(1), int64(5), object(4)\n",
            "memory usage: 673.4+ KB\n"
          ]
        }
      ]
    },
    {
      "cell_type": "code",
      "source": [
        "print(df.nunique())"
      ],
      "metadata": {
        "colab": {
          "base_uri": "https://localhost:8080/"
        },
        "id": "a65Nn5159gD9",
        "outputId": "231ee1ad-4599-4855-a281-78417e0e8c5c"
      },
      "execution_count": null,
      "outputs": [
        {
          "output_type": "stream",
          "name": "stdout",
          "text": [
            "name            6955\n",
            "age               42\n",
            "country          110\n",
            "year               7\n",
            "Date_Given         7\n",
            "sports            49\n",
            "gold_medal         7\n",
            "silver_medal       4\n",
            "brone_medal        4\n",
            "total_medal        7\n",
            "dtype: int64\n"
          ]
        }
      ]
    },
    {
      "cell_type": "markdown",
      "source": [
        "**Explanation:** I used df.info() method as it provides the schema of the database such as number of rows and columns alongwith their data types.\n",
        "\n",
        "It also species the count of non-null values from which we can easily know how many null values are present in each column. \n",
        "\n",
        "Finding null values is one of the important step of data cleaning.\n",
        "\n",
        "**From the above output, it is clear that there are 5 null values each in name and age columns**"
      ],
      "metadata": {
        "id": "Gc7FZTCu3X02"
      }
    },
    {
      "cell_type": "markdown",
      "source": [
        "**Also, here I used df.nunique() method to find unique values for each column which also signifies the need of this project.**\n",
        "\n",
        "**The total number of events in the Olympics is 8618 in 49 sports. And for every event there are winners. Therefore,a lot of data is generated. So, by using Python and PySpark we will analyze this data.**"
      ],
      "metadata": {
        "id": "cL3SkprL9saf"
      }
    },
    {
      "cell_type": "code",
      "source": [
        "# Another way of finding null values is:\n",
        "\n",
        "print(df.isnull().sum())"
      ],
      "metadata": {
        "colab": {
          "base_uri": "https://localhost:8080/"
        },
        "id": "LPwaqUDs44VU",
        "outputId": "68af6d91-75a7-46fa-a027-821f02e1d306"
      },
      "execution_count": null,
      "outputs": [
        {
          "output_type": "stream",
          "name": "stdout",
          "text": [
            "name            5\n",
            "age             5\n",
            "country         0\n",
            "year            0\n",
            "Date_Given      0\n",
            "sports          0\n",
            "gold_medal      0\n",
            "silver_medal    0\n",
            "brone_medal     0\n",
            "total_medal     0\n",
            "dtype: int64\n"
          ]
        }
      ]
    },
    {
      "cell_type": "code",
      "source": [
        "#For finding the rows with missing values,we can use:\n",
        "\n",
        "df.loc[df.isnull().any(axis=1)]"
      ],
      "metadata": {
        "colab": {
          "base_uri": "https://localhost:8080/",
          "height": 206
        },
        "id": "_msMoo5d7_3m",
        "outputId": "111ac860-c853-4a7a-99ad-b8fa6c583c03"
      },
      "execution_count": null,
      "outputs": [
        {
          "output_type": "execute_result",
          "data": {
            "text/plain": [
              "     name  age    country  year  Date_Given      sports  gold_medal  \\\n",
              "1428  NaN  NaN     Brazil  2012  08-12-2012  Volleyball           0   \n",
              "1429  NaN  NaN     Brazil  2012  08-12-2012  Volleyball           0   \n",
              "1430  NaN  NaN     Brazil  2012  08-12-2012  Volleyball           0   \n",
              "4485  NaN  NaN  Argentina  2012  08-12-2012      Hockey           0   \n",
              "4486  NaN  NaN  Argentina  2012  08-12-2012      Hockey           0   \n",
              "\n",
              "      silver_medal  brone_medal  total_medal  \n",
              "1428             1            0            1  \n",
              "1429             1            0            1  \n",
              "1430             1            0            1  \n",
              "4485             1            0            1  \n",
              "4486             1            0            1  "
            ],
            "text/html": [
              "\n",
              "  <div id=\"df-ecb54f5f-407c-4344-ad74-a1613907612e\">\n",
              "    <div class=\"colab-df-container\">\n",
              "      <div>\n",
              "<style scoped>\n",
              "    .dataframe tbody tr th:only-of-type {\n",
              "        vertical-align: middle;\n",
              "    }\n",
              "\n",
              "    .dataframe tbody tr th {\n",
              "        vertical-align: top;\n",
              "    }\n",
              "\n",
              "    .dataframe thead th {\n",
              "        text-align: right;\n",
              "    }\n",
              "</style>\n",
              "<table border=\"1\" class=\"dataframe\">\n",
              "  <thead>\n",
              "    <tr style=\"text-align: right;\">\n",
              "      <th></th>\n",
              "      <th>name</th>\n",
              "      <th>age</th>\n",
              "      <th>country</th>\n",
              "      <th>year</th>\n",
              "      <th>Date_Given</th>\n",
              "      <th>sports</th>\n",
              "      <th>gold_medal</th>\n",
              "      <th>silver_medal</th>\n",
              "      <th>brone_medal</th>\n",
              "      <th>total_medal</th>\n",
              "    </tr>\n",
              "  </thead>\n",
              "  <tbody>\n",
              "    <tr>\n",
              "      <th>1428</th>\n",
              "      <td>NaN</td>\n",
              "      <td>NaN</td>\n",
              "      <td>Brazil</td>\n",
              "      <td>2012</td>\n",
              "      <td>08-12-2012</td>\n",
              "      <td>Volleyball</td>\n",
              "      <td>0</td>\n",
              "      <td>1</td>\n",
              "      <td>0</td>\n",
              "      <td>1</td>\n",
              "    </tr>\n",
              "    <tr>\n",
              "      <th>1429</th>\n",
              "      <td>NaN</td>\n",
              "      <td>NaN</td>\n",
              "      <td>Brazil</td>\n",
              "      <td>2012</td>\n",
              "      <td>08-12-2012</td>\n",
              "      <td>Volleyball</td>\n",
              "      <td>0</td>\n",
              "      <td>1</td>\n",
              "      <td>0</td>\n",
              "      <td>1</td>\n",
              "    </tr>\n",
              "    <tr>\n",
              "      <th>1430</th>\n",
              "      <td>NaN</td>\n",
              "      <td>NaN</td>\n",
              "      <td>Brazil</td>\n",
              "      <td>2012</td>\n",
              "      <td>08-12-2012</td>\n",
              "      <td>Volleyball</td>\n",
              "      <td>0</td>\n",
              "      <td>1</td>\n",
              "      <td>0</td>\n",
              "      <td>1</td>\n",
              "    </tr>\n",
              "    <tr>\n",
              "      <th>4485</th>\n",
              "      <td>NaN</td>\n",
              "      <td>NaN</td>\n",
              "      <td>Argentina</td>\n",
              "      <td>2012</td>\n",
              "      <td>08-12-2012</td>\n",
              "      <td>Hockey</td>\n",
              "      <td>0</td>\n",
              "      <td>1</td>\n",
              "      <td>0</td>\n",
              "      <td>1</td>\n",
              "    </tr>\n",
              "    <tr>\n",
              "      <th>4486</th>\n",
              "      <td>NaN</td>\n",
              "      <td>NaN</td>\n",
              "      <td>Argentina</td>\n",
              "      <td>2012</td>\n",
              "      <td>08-12-2012</td>\n",
              "      <td>Hockey</td>\n",
              "      <td>0</td>\n",
              "      <td>1</td>\n",
              "      <td>0</td>\n",
              "      <td>1</td>\n",
              "    </tr>\n",
              "  </tbody>\n",
              "</table>\n",
              "</div>\n",
              "      <button class=\"colab-df-convert\" onclick=\"convertToInteractive('df-ecb54f5f-407c-4344-ad74-a1613907612e')\"\n",
              "              title=\"Convert this dataframe to an interactive table.\"\n",
              "              style=\"display:none;\">\n",
              "        \n",
              "  <svg xmlns=\"http://www.w3.org/2000/svg\" height=\"24px\"viewBox=\"0 0 24 24\"\n",
              "       width=\"24px\">\n",
              "    <path d=\"M0 0h24v24H0V0z\" fill=\"none\"/>\n",
              "    <path d=\"M18.56 5.44l.94 2.06.94-2.06 2.06-.94-2.06-.94-.94-2.06-.94 2.06-2.06.94zm-11 1L8.5 8.5l.94-2.06 2.06-.94-2.06-.94L8.5 2.5l-.94 2.06-2.06.94zm10 10l.94 2.06.94-2.06 2.06-.94-2.06-.94-.94-2.06-.94 2.06-2.06.94z\"/><path d=\"M17.41 7.96l-1.37-1.37c-.4-.4-.92-.59-1.43-.59-.52 0-1.04.2-1.43.59L10.3 9.45l-7.72 7.72c-.78.78-.78 2.05 0 2.83L4 21.41c.39.39.9.59 1.41.59.51 0 1.02-.2 1.41-.59l7.78-7.78 2.81-2.81c.8-.78.8-2.07 0-2.86zM5.41 20L4 18.59l7.72-7.72 1.47 1.35L5.41 20z\"/>\n",
              "  </svg>\n",
              "      </button>\n",
              "      \n",
              "  <style>\n",
              "    .colab-df-container {\n",
              "      display:flex;\n",
              "      flex-wrap:wrap;\n",
              "      gap: 12px;\n",
              "    }\n",
              "\n",
              "    .colab-df-convert {\n",
              "      background-color: #E8F0FE;\n",
              "      border: none;\n",
              "      border-radius: 50%;\n",
              "      cursor: pointer;\n",
              "      display: none;\n",
              "      fill: #1967D2;\n",
              "      height: 32px;\n",
              "      padding: 0 0 0 0;\n",
              "      width: 32px;\n",
              "    }\n",
              "\n",
              "    .colab-df-convert:hover {\n",
              "      background-color: #E2EBFA;\n",
              "      box-shadow: 0px 1px 2px rgba(60, 64, 67, 0.3), 0px 1px 3px 1px rgba(60, 64, 67, 0.15);\n",
              "      fill: #174EA6;\n",
              "    }\n",
              "\n",
              "    [theme=dark] .colab-df-convert {\n",
              "      background-color: #3B4455;\n",
              "      fill: #D2E3FC;\n",
              "    }\n",
              "\n",
              "    [theme=dark] .colab-df-convert:hover {\n",
              "      background-color: #434B5C;\n",
              "      box-shadow: 0px 1px 3px 1px rgba(0, 0, 0, 0.15);\n",
              "      filter: drop-shadow(0px 1px 2px rgba(0, 0, 0, 0.3));\n",
              "      fill: #FFFFFF;\n",
              "    }\n",
              "  </style>\n",
              "\n",
              "      <script>\n",
              "        const buttonEl =\n",
              "          document.querySelector('#df-ecb54f5f-407c-4344-ad74-a1613907612e button.colab-df-convert');\n",
              "        buttonEl.style.display =\n",
              "          google.colab.kernel.accessAllowed ? 'block' : 'none';\n",
              "\n",
              "        async function convertToInteractive(key) {\n",
              "          const element = document.querySelector('#df-ecb54f5f-407c-4344-ad74-a1613907612e');\n",
              "          const dataTable =\n",
              "            await google.colab.kernel.invokeFunction('convertToInteractive',\n",
              "                                                     [key], {});\n",
              "          if (!dataTable) return;\n",
              "\n",
              "          const docLinkHtml = 'Like what you see? Visit the ' +\n",
              "            '<a target=\"_blank\" href=https://colab.research.google.com/notebooks/data_table.ipynb>data table notebook</a>'\n",
              "            + ' to learn more about interactive tables.';\n",
              "          element.innerHTML = '';\n",
              "          dataTable['output_type'] = 'display_data';\n",
              "          await google.colab.output.renderOutput(dataTable, element);\n",
              "          const docLink = document.createElement('div');\n",
              "          docLink.innerHTML = docLinkHtml;\n",
              "          element.appendChild(docLink);\n",
              "        }\n",
              "      </script>\n",
              "    </div>\n",
              "  </div>\n",
              "  "
            ]
          },
          "metadata": {},
          "execution_count": 6
        }
      ]
    },
    {
      "cell_type": "markdown",
      "source": [
        "For specific selection of rows based on condition that it should have null values, I have used loc method. And axis=1, is used for rows selection."
      ],
      "metadata": {
        "id": "Htcbj5LpD_3L"
      }
    },
    {
      "cell_type": "markdown",
      "source": [
        "**I am going to fill the null values in name column with \"Unknown\" and age column with median.**\n",
        "\n",
        "I am going to do so because other than name and age we have data for the number of medals won by the player and on which date and for which sport they have won it. Other than that, we have the name of the country as well, so while analysing the data country or year wise, the stability of data shouldn't be affected."
      ],
      "metadata": {
        "id": "PHL7KZjT-MSV"
      }
    },
    {
      "cell_type": "markdown",
      "source": [
        "**I will fill the null values in age by median because it doesn't get affected by outliers.**"
      ],
      "metadata": {
        "id": "xNZopCErGpg_"
      }
    },
    {
      "cell_type": "code",
      "source": [
        "median_age= np.median(df['age'])\n",
        "median_age"
      ],
      "metadata": {
        "id": "Cuo3ZCXYGEQ-"
      },
      "execution_count": null,
      "outputs": []
    },
    {
      "cell_type": "code",
      "source": [
        "df[\"name\"].fillna(\"Unknown\", inplace = True)\n",
        "df[\"age\"].fillna(26, inplace = True) # As,median age is 26."
      ],
      "metadata": {
        "id": "7u0rmePe9Jkg"
      },
      "execution_count": null,
      "outputs": []
    },
    {
      "cell_type": "markdown",
      "source": [
        "**Here,inplace = True , will return nothing and the dataframe is now updated.**"
      ],
      "metadata": {
        "id": "7LD1XsiDImfZ"
      }
    },
    {
      "cell_type": "code",
      "source": [
        "# Selecting duplicate rows except first occurrence based on all columns:\n",
        "duplicate = df[df.duplicated()]\n",
        " \n",
        "print(\"Duplicate Rows :\")\n",
        " \n",
        "# Print the resultant Dataframe\n",
        "duplicate"
      ],
      "metadata": {
        "colab": {
          "base_uri": "https://localhost:8080/",
          "height": 161
        },
        "id": "z_TZnDh0AqxU",
        "outputId": "e0490eea-5cc2-44c5-e097-485063f5aa2f"
      },
      "execution_count": null,
      "outputs": [
        {
          "output_type": "stream",
          "name": "stdout",
          "text": [
            "Duplicate Rows :\n"
          ]
        },
        {
          "output_type": "execute_result",
          "data": {
            "text/plain": [
              "         name  age    country  year  Date_Given      sports  gold_medal  \\\n",
              "1429  Unknown  0.0     Brazil  2012  08-12-2012  Volleyball           0   \n",
              "1430  Unknown  0.0     Brazil  2012  08-12-2012  Volleyball           0   \n",
              "4486  Unknown  0.0  Argentina  2012  08-12-2012      Hockey           0   \n",
              "\n",
              "      silver_medal  brone_medal  total_medal  \n",
              "1429             1            0            1  \n",
              "1430             1            0            1  \n",
              "4486             1            0            1  "
            ],
            "text/html": [
              "\n",
              "  <div id=\"df-de635c07-beb7-4a00-aa67-234fbc3f63fc\">\n",
              "    <div class=\"colab-df-container\">\n",
              "      <div>\n",
              "<style scoped>\n",
              "    .dataframe tbody tr th:only-of-type {\n",
              "        vertical-align: middle;\n",
              "    }\n",
              "\n",
              "    .dataframe tbody tr th {\n",
              "        vertical-align: top;\n",
              "    }\n",
              "\n",
              "    .dataframe thead th {\n",
              "        text-align: right;\n",
              "    }\n",
              "</style>\n",
              "<table border=\"1\" class=\"dataframe\">\n",
              "  <thead>\n",
              "    <tr style=\"text-align: right;\">\n",
              "      <th></th>\n",
              "      <th>name</th>\n",
              "      <th>age</th>\n",
              "      <th>country</th>\n",
              "      <th>year</th>\n",
              "      <th>Date_Given</th>\n",
              "      <th>sports</th>\n",
              "      <th>gold_medal</th>\n",
              "      <th>silver_medal</th>\n",
              "      <th>brone_medal</th>\n",
              "      <th>total_medal</th>\n",
              "    </tr>\n",
              "  </thead>\n",
              "  <tbody>\n",
              "    <tr>\n",
              "      <th>1429</th>\n",
              "      <td>Unknown</td>\n",
              "      <td>0.0</td>\n",
              "      <td>Brazil</td>\n",
              "      <td>2012</td>\n",
              "      <td>08-12-2012</td>\n",
              "      <td>Volleyball</td>\n",
              "      <td>0</td>\n",
              "      <td>1</td>\n",
              "      <td>0</td>\n",
              "      <td>1</td>\n",
              "    </tr>\n",
              "    <tr>\n",
              "      <th>1430</th>\n",
              "      <td>Unknown</td>\n",
              "      <td>0.0</td>\n",
              "      <td>Brazil</td>\n",
              "      <td>2012</td>\n",
              "      <td>08-12-2012</td>\n",
              "      <td>Volleyball</td>\n",
              "      <td>0</td>\n",
              "      <td>1</td>\n",
              "      <td>0</td>\n",
              "      <td>1</td>\n",
              "    </tr>\n",
              "    <tr>\n",
              "      <th>4486</th>\n",
              "      <td>Unknown</td>\n",
              "      <td>0.0</td>\n",
              "      <td>Argentina</td>\n",
              "      <td>2012</td>\n",
              "      <td>08-12-2012</td>\n",
              "      <td>Hockey</td>\n",
              "      <td>0</td>\n",
              "      <td>1</td>\n",
              "      <td>0</td>\n",
              "      <td>1</td>\n",
              "    </tr>\n",
              "  </tbody>\n",
              "</table>\n",
              "</div>\n",
              "      <button class=\"colab-df-convert\" onclick=\"convertToInteractive('df-de635c07-beb7-4a00-aa67-234fbc3f63fc')\"\n",
              "              title=\"Convert this dataframe to an interactive table.\"\n",
              "              style=\"display:none;\">\n",
              "        \n",
              "  <svg xmlns=\"http://www.w3.org/2000/svg\" height=\"24px\"viewBox=\"0 0 24 24\"\n",
              "       width=\"24px\">\n",
              "    <path d=\"M0 0h24v24H0V0z\" fill=\"none\"/>\n",
              "    <path d=\"M18.56 5.44l.94 2.06.94-2.06 2.06-.94-2.06-.94-.94-2.06-.94 2.06-2.06.94zm-11 1L8.5 8.5l.94-2.06 2.06-.94-2.06-.94L8.5 2.5l-.94 2.06-2.06.94zm10 10l.94 2.06.94-2.06 2.06-.94-2.06-.94-.94-2.06-.94 2.06-2.06.94z\"/><path d=\"M17.41 7.96l-1.37-1.37c-.4-.4-.92-.59-1.43-.59-.52 0-1.04.2-1.43.59L10.3 9.45l-7.72 7.72c-.78.78-.78 2.05 0 2.83L4 21.41c.39.39.9.59 1.41.59.51 0 1.02-.2 1.41-.59l7.78-7.78 2.81-2.81c.8-.78.8-2.07 0-2.86zM5.41 20L4 18.59l7.72-7.72 1.47 1.35L5.41 20z\"/>\n",
              "  </svg>\n",
              "      </button>\n",
              "      \n",
              "  <style>\n",
              "    .colab-df-container {\n",
              "      display:flex;\n",
              "      flex-wrap:wrap;\n",
              "      gap: 12px;\n",
              "    }\n",
              "\n",
              "    .colab-df-convert {\n",
              "      background-color: #E8F0FE;\n",
              "      border: none;\n",
              "      border-radius: 50%;\n",
              "      cursor: pointer;\n",
              "      display: none;\n",
              "      fill: #1967D2;\n",
              "      height: 32px;\n",
              "      padding: 0 0 0 0;\n",
              "      width: 32px;\n",
              "    }\n",
              "\n",
              "    .colab-df-convert:hover {\n",
              "      background-color: #E2EBFA;\n",
              "      box-shadow: 0px 1px 2px rgba(60, 64, 67, 0.3), 0px 1px 3px 1px rgba(60, 64, 67, 0.15);\n",
              "      fill: #174EA6;\n",
              "    }\n",
              "\n",
              "    [theme=dark] .colab-df-convert {\n",
              "      background-color: #3B4455;\n",
              "      fill: #D2E3FC;\n",
              "    }\n",
              "\n",
              "    [theme=dark] .colab-df-convert:hover {\n",
              "      background-color: #434B5C;\n",
              "      box-shadow: 0px 1px 3px 1px rgba(0, 0, 0, 0.15);\n",
              "      filter: drop-shadow(0px 1px 2px rgba(0, 0, 0, 0.3));\n",
              "      fill: #FFFFFF;\n",
              "    }\n",
              "  </style>\n",
              "\n",
              "      <script>\n",
              "        const buttonEl =\n",
              "          document.querySelector('#df-de635c07-beb7-4a00-aa67-234fbc3f63fc button.colab-df-convert');\n",
              "        buttonEl.style.display =\n",
              "          google.colab.kernel.accessAllowed ? 'block' : 'none';\n",
              "\n",
              "        async function convertToInteractive(key) {\n",
              "          const element = document.querySelector('#df-de635c07-beb7-4a00-aa67-234fbc3f63fc');\n",
              "          const dataTable =\n",
              "            await google.colab.kernel.invokeFunction('convertToInteractive',\n",
              "                                                     [key], {});\n",
              "          if (!dataTable) return;\n",
              "\n",
              "          const docLinkHtml = 'Like what you see? Visit the ' +\n",
              "            '<a target=\"_blank\" href=https://colab.research.google.com/notebooks/data_table.ipynb>data table notebook</a>'\n",
              "            + ' to learn more about interactive tables.';\n",
              "          element.innerHTML = '';\n",
              "          dataTable['output_type'] = 'display_data';\n",
              "          await google.colab.output.renderOutput(dataTable, element);\n",
              "          const docLink = document.createElement('div');\n",
              "          docLink.innerHTML = docLinkHtml;\n",
              "          element.appendChild(docLink);\n",
              "        }\n",
              "      </script>\n",
              "    </div>\n",
              "  </div>\n",
              "  "
            ]
          },
          "metadata": {},
          "execution_count": 8
        }
      ]
    },
    {
      "cell_type": "markdown",
      "source": [
        "From the above output, we can see that there are three rows with duplicate values. \n",
        "\n",
        "**I am going to drop all three duplicate rows using drop.duplicated() method**"
      ],
      "metadata": {
        "id": "pftouSzDBb4l"
      }
    },
    {
      "cell_type": "code",
      "source": [
        "df2 = df.drop_duplicates() # will drop all duplicate rows except the first occurence\n",
        "df2"
      ],
      "metadata": {
        "id": "nzYxZyzZDAtM",
        "colab": {
          "base_uri": "https://localhost:8080/",
          "height": 468
        },
        "outputId": "15abef3e-dedf-45e5-8ef2-25f8bdbd758c"
      },
      "execution_count": null,
      "outputs": [
        {
          "output_type": "execute_result",
          "data": {
            "text/plain": [
              "                      name   age        country  year  Date_Given      sports  \\\n",
              "0           Michael Phelps  23.0  United States  2008   8/24/2008    Swimming   \n",
              "1           Michael Phelps  19.0  United States  2004   8/29/2004    Swimming   \n",
              "2           Michael Phelps  27.0  United States  2012  08-12-2012    Swimming   \n",
              "3         Natalie Coughlin  25.0  United States  2008   8/24/2008    Swimming   \n",
              "4            Aleksey Nemov  24.0         Russia  2000  10-01-2000  Gymnastics   \n",
              "...                    ...   ...            ...   ...         ...         ...   \n",
              "8613      Olena Sadovnycha  32.0        Ukraine  2000  10-01-2000     Archery   \n",
              "8614      Kateryna Serdiuk  17.0        Ukraine  2000  10-01-2000     Archery   \n",
              "8615      Wietse van Alten  21.0    Netherlands  2000  10-01-2000     Archery   \n",
              "8616  Sandra Wagner-Sachse  31.0        Germany  2000  10-01-2000     Archery   \n",
              "8617             Rod White  23.0  United States  2000  10-01-2000     Archery   \n",
              "\n",
              "      gold_medal  silver_medal  brone_medal  total_medal  \n",
              "0              8             0            0            8  \n",
              "1              6             0            2            8  \n",
              "2              4             2            0            6  \n",
              "3              1             2            3            6  \n",
              "4              2             1            3            6  \n",
              "...          ...           ...          ...          ...  \n",
              "8613           0             1            0            1  \n",
              "8614           0             1            0            1  \n",
              "8615           0             0            1            1  \n",
              "8616           0             0            1            1  \n",
              "8617           0             0            1            1  \n",
              "\n",
              "[8615 rows x 10 columns]"
            ],
            "text/html": [
              "\n",
              "  <div id=\"df-f223d381-aa0c-4e45-8640-d286de3273eb\">\n",
              "    <div class=\"colab-df-container\">\n",
              "      <div>\n",
              "<style scoped>\n",
              "    .dataframe tbody tr th:only-of-type {\n",
              "        vertical-align: middle;\n",
              "    }\n",
              "\n",
              "    .dataframe tbody tr th {\n",
              "        vertical-align: top;\n",
              "    }\n",
              "\n",
              "    .dataframe thead th {\n",
              "        text-align: right;\n",
              "    }\n",
              "</style>\n",
              "<table border=\"1\" class=\"dataframe\">\n",
              "  <thead>\n",
              "    <tr style=\"text-align: right;\">\n",
              "      <th></th>\n",
              "      <th>name</th>\n",
              "      <th>age</th>\n",
              "      <th>country</th>\n",
              "      <th>year</th>\n",
              "      <th>Date_Given</th>\n",
              "      <th>sports</th>\n",
              "      <th>gold_medal</th>\n",
              "      <th>silver_medal</th>\n",
              "      <th>brone_medal</th>\n",
              "      <th>total_medal</th>\n",
              "    </tr>\n",
              "  </thead>\n",
              "  <tbody>\n",
              "    <tr>\n",
              "      <th>0</th>\n",
              "      <td>Michael Phelps</td>\n",
              "      <td>23.0</td>\n",
              "      <td>United States</td>\n",
              "      <td>2008</td>\n",
              "      <td>8/24/2008</td>\n",
              "      <td>Swimming</td>\n",
              "      <td>8</td>\n",
              "      <td>0</td>\n",
              "      <td>0</td>\n",
              "      <td>8</td>\n",
              "    </tr>\n",
              "    <tr>\n",
              "      <th>1</th>\n",
              "      <td>Michael Phelps</td>\n",
              "      <td>19.0</td>\n",
              "      <td>United States</td>\n",
              "      <td>2004</td>\n",
              "      <td>8/29/2004</td>\n",
              "      <td>Swimming</td>\n",
              "      <td>6</td>\n",
              "      <td>0</td>\n",
              "      <td>2</td>\n",
              "      <td>8</td>\n",
              "    </tr>\n",
              "    <tr>\n",
              "      <th>2</th>\n",
              "      <td>Michael Phelps</td>\n",
              "      <td>27.0</td>\n",
              "      <td>United States</td>\n",
              "      <td>2012</td>\n",
              "      <td>08-12-2012</td>\n",
              "      <td>Swimming</td>\n",
              "      <td>4</td>\n",
              "      <td>2</td>\n",
              "      <td>0</td>\n",
              "      <td>6</td>\n",
              "    </tr>\n",
              "    <tr>\n",
              "      <th>3</th>\n",
              "      <td>Natalie Coughlin</td>\n",
              "      <td>25.0</td>\n",
              "      <td>United States</td>\n",
              "      <td>2008</td>\n",
              "      <td>8/24/2008</td>\n",
              "      <td>Swimming</td>\n",
              "      <td>1</td>\n",
              "      <td>2</td>\n",
              "      <td>3</td>\n",
              "      <td>6</td>\n",
              "    </tr>\n",
              "    <tr>\n",
              "      <th>4</th>\n",
              "      <td>Aleksey Nemov</td>\n",
              "      <td>24.0</td>\n",
              "      <td>Russia</td>\n",
              "      <td>2000</td>\n",
              "      <td>10-01-2000</td>\n",
              "      <td>Gymnastics</td>\n",
              "      <td>2</td>\n",
              "      <td>1</td>\n",
              "      <td>3</td>\n",
              "      <td>6</td>\n",
              "    </tr>\n",
              "    <tr>\n",
              "      <th>...</th>\n",
              "      <td>...</td>\n",
              "      <td>...</td>\n",
              "      <td>...</td>\n",
              "      <td>...</td>\n",
              "      <td>...</td>\n",
              "      <td>...</td>\n",
              "      <td>...</td>\n",
              "      <td>...</td>\n",
              "      <td>...</td>\n",
              "      <td>...</td>\n",
              "    </tr>\n",
              "    <tr>\n",
              "      <th>8613</th>\n",
              "      <td>Olena Sadovnycha</td>\n",
              "      <td>32.0</td>\n",
              "      <td>Ukraine</td>\n",
              "      <td>2000</td>\n",
              "      <td>10-01-2000</td>\n",
              "      <td>Archery</td>\n",
              "      <td>0</td>\n",
              "      <td>1</td>\n",
              "      <td>0</td>\n",
              "      <td>1</td>\n",
              "    </tr>\n",
              "    <tr>\n",
              "      <th>8614</th>\n",
              "      <td>Kateryna Serdiuk</td>\n",
              "      <td>17.0</td>\n",
              "      <td>Ukraine</td>\n",
              "      <td>2000</td>\n",
              "      <td>10-01-2000</td>\n",
              "      <td>Archery</td>\n",
              "      <td>0</td>\n",
              "      <td>1</td>\n",
              "      <td>0</td>\n",
              "      <td>1</td>\n",
              "    </tr>\n",
              "    <tr>\n",
              "      <th>8615</th>\n",
              "      <td>Wietse van Alten</td>\n",
              "      <td>21.0</td>\n",
              "      <td>Netherlands</td>\n",
              "      <td>2000</td>\n",
              "      <td>10-01-2000</td>\n",
              "      <td>Archery</td>\n",
              "      <td>0</td>\n",
              "      <td>0</td>\n",
              "      <td>1</td>\n",
              "      <td>1</td>\n",
              "    </tr>\n",
              "    <tr>\n",
              "      <th>8616</th>\n",
              "      <td>Sandra Wagner-Sachse</td>\n",
              "      <td>31.0</td>\n",
              "      <td>Germany</td>\n",
              "      <td>2000</td>\n",
              "      <td>10-01-2000</td>\n",
              "      <td>Archery</td>\n",
              "      <td>0</td>\n",
              "      <td>0</td>\n",
              "      <td>1</td>\n",
              "      <td>1</td>\n",
              "    </tr>\n",
              "    <tr>\n",
              "      <th>8617</th>\n",
              "      <td>Rod White</td>\n",
              "      <td>23.0</td>\n",
              "      <td>United States</td>\n",
              "      <td>2000</td>\n",
              "      <td>10-01-2000</td>\n",
              "      <td>Archery</td>\n",
              "      <td>0</td>\n",
              "      <td>0</td>\n",
              "      <td>1</td>\n",
              "      <td>1</td>\n",
              "    </tr>\n",
              "  </tbody>\n",
              "</table>\n",
              "<p>8615 rows × 10 columns</p>\n",
              "</div>\n",
              "      <button class=\"colab-df-convert\" onclick=\"convertToInteractive('df-f223d381-aa0c-4e45-8640-d286de3273eb')\"\n",
              "              title=\"Convert this dataframe to an interactive table.\"\n",
              "              style=\"display:none;\">\n",
              "        \n",
              "  <svg xmlns=\"http://www.w3.org/2000/svg\" height=\"24px\"viewBox=\"0 0 24 24\"\n",
              "       width=\"24px\">\n",
              "    <path d=\"M0 0h24v24H0V0z\" fill=\"none\"/>\n",
              "    <path d=\"M18.56 5.44l.94 2.06.94-2.06 2.06-.94-2.06-.94-.94-2.06-.94 2.06-2.06.94zm-11 1L8.5 8.5l.94-2.06 2.06-.94-2.06-.94L8.5 2.5l-.94 2.06-2.06.94zm10 10l.94 2.06.94-2.06 2.06-.94-2.06-.94-.94-2.06-.94 2.06-2.06.94z\"/><path d=\"M17.41 7.96l-1.37-1.37c-.4-.4-.92-.59-1.43-.59-.52 0-1.04.2-1.43.59L10.3 9.45l-7.72 7.72c-.78.78-.78 2.05 0 2.83L4 21.41c.39.39.9.59 1.41.59.51 0 1.02-.2 1.41-.59l7.78-7.78 2.81-2.81c.8-.78.8-2.07 0-2.86zM5.41 20L4 18.59l7.72-7.72 1.47 1.35L5.41 20z\"/>\n",
              "  </svg>\n",
              "      </button>\n",
              "      \n",
              "  <style>\n",
              "    .colab-df-container {\n",
              "      display:flex;\n",
              "      flex-wrap:wrap;\n",
              "      gap: 12px;\n",
              "    }\n",
              "\n",
              "    .colab-df-convert {\n",
              "      background-color: #E8F0FE;\n",
              "      border: none;\n",
              "      border-radius: 50%;\n",
              "      cursor: pointer;\n",
              "      display: none;\n",
              "      fill: #1967D2;\n",
              "      height: 32px;\n",
              "      padding: 0 0 0 0;\n",
              "      width: 32px;\n",
              "    }\n",
              "\n",
              "    .colab-df-convert:hover {\n",
              "      background-color: #E2EBFA;\n",
              "      box-shadow: 0px 1px 2px rgba(60, 64, 67, 0.3), 0px 1px 3px 1px rgba(60, 64, 67, 0.15);\n",
              "      fill: #174EA6;\n",
              "    }\n",
              "\n",
              "    [theme=dark] .colab-df-convert {\n",
              "      background-color: #3B4455;\n",
              "      fill: #D2E3FC;\n",
              "    }\n",
              "\n",
              "    [theme=dark] .colab-df-convert:hover {\n",
              "      background-color: #434B5C;\n",
              "      box-shadow: 0px 1px 3px 1px rgba(0, 0, 0, 0.15);\n",
              "      filter: drop-shadow(0px 1px 2px rgba(0, 0, 0, 0.3));\n",
              "      fill: #FFFFFF;\n",
              "    }\n",
              "  </style>\n",
              "\n",
              "      <script>\n",
              "        const buttonEl =\n",
              "          document.querySelector('#df-f223d381-aa0c-4e45-8640-d286de3273eb button.colab-df-convert');\n",
              "        buttonEl.style.display =\n",
              "          google.colab.kernel.accessAllowed ? 'block' : 'none';\n",
              "\n",
              "        async function convertToInteractive(key) {\n",
              "          const element = document.querySelector('#df-f223d381-aa0c-4e45-8640-d286de3273eb');\n",
              "          const dataTable =\n",
              "            await google.colab.kernel.invokeFunction('convertToInteractive',\n",
              "                                                     [key], {});\n",
              "          if (!dataTable) return;\n",
              "\n",
              "          const docLinkHtml = 'Like what you see? Visit the ' +\n",
              "            '<a target=\"_blank\" href=https://colab.research.google.com/notebooks/data_table.ipynb>data table notebook</a>'\n",
              "            + ' to learn more about interactive tables.';\n",
              "          element.innerHTML = '';\n",
              "          dataTable['output_type'] = 'display_data';\n",
              "          await google.colab.output.renderOutput(dataTable, element);\n",
              "          const docLink = document.createElement('div');\n",
              "          docLink.innerHTML = docLinkHtml;\n",
              "          element.appendChild(docLink);\n",
              "        }\n",
              "      </script>\n",
              "    </div>\n",
              "  </div>\n",
              "  "
            ]
          },
          "metadata": {},
          "execution_count": 9
        }
      ]
    },
    {
      "cell_type": "code",
      "source": [
        "# Now, to find the presence of special characters in the name column, \n",
        "#I will select the rows in which Name column has special characters:\n",
        "\n",
        "df2[df2.name.str.contains(r'[@#&$%+-/*]')]"
      ],
      "metadata": {
        "colab": {
          "base_uri": "https://localhost:8080/",
          "height": 572
        },
        "id": "HY0ofN3AD0s9",
        "outputId": "5fee80b5-12fd-45fb-e97b-4e8ba96d9356"
      },
      "execution_count": null,
      "outputs": [
        {
          "output_type": "execute_result",
          "data": {
            "text/plain": [
              "                               name   age        country  year  Date_Given  \\\n",
              "17            Libby Lenton-Trickett  23.0      Australia  2008   8/24/2008   \n",
              "23                    Gary Hall Jr.  25.0  United States  2000  10-01-2000   \n",
              "28                      An Hyeon-Su  20.0    South Korea  2006   2/26/2006   \n",
              "32    Leontien Zijlaard-van Moorsel  30.0    Netherlands  2000  10-01-2000   \n",
              "33               Petter Northug Jr.  24.0         Norway  2010   2/28/2010   \n",
              "...                             ...   ...            ...   ...         ...   \n",
              "8600                     Yun Mi-Jin  21.0    South Korea  2004   8/29/2004   \n",
              "8607                   Jang Yong-Ho  24.0    South Korea  2000  10-01-2000   \n",
              "8609                 Kim Cheong-Tae  20.0    South Korea  2000  10-01-2000   \n",
              "8611                      O Gyo-Mun  28.0    South Korea  2000  10-01-2000   \n",
              "8616           Sandra Wagner-Sachse  31.0        Germany  2000  10-01-2000   \n",
              "\n",
              "                         sports  gold_medal  silver_medal  brone_medal  \\\n",
              "17                     Swimming           2             1            1   \n",
              "23                     Swimming           2             1            1   \n",
              "28    Short-Track Speed Skating           3             0            1   \n",
              "32                      Cycling           3             1            0   \n",
              "33         Cross Country Skiing           2             1            1   \n",
              "...                         ...         ...           ...          ...   \n",
              "8600                    Archery           1             0            0   \n",
              "8607                    Archery           1             0            0   \n",
              "8609                    Archery           1             0            0   \n",
              "8611                    Archery           1             0            0   \n",
              "8616                    Archery           0             0            1   \n",
              "\n",
              "      total_medal  \n",
              "17              4  \n",
              "23              4  \n",
              "28              4  \n",
              "32              4  \n",
              "33              4  \n",
              "...           ...  \n",
              "8600            1  \n",
              "8607            1  \n",
              "8609            1  \n",
              "8611            1  \n",
              "8616            1  \n",
              "\n",
              "[725 rows x 10 columns]"
            ],
            "text/html": [
              "\n",
              "  <div id=\"df-bb20d20e-3acf-4a9a-bc12-8353c89fcf2a\">\n",
              "    <div class=\"colab-df-container\">\n",
              "      <div>\n",
              "<style scoped>\n",
              "    .dataframe tbody tr th:only-of-type {\n",
              "        vertical-align: middle;\n",
              "    }\n",
              "\n",
              "    .dataframe tbody tr th {\n",
              "        vertical-align: top;\n",
              "    }\n",
              "\n",
              "    .dataframe thead th {\n",
              "        text-align: right;\n",
              "    }\n",
              "</style>\n",
              "<table border=\"1\" class=\"dataframe\">\n",
              "  <thead>\n",
              "    <tr style=\"text-align: right;\">\n",
              "      <th></th>\n",
              "      <th>name</th>\n",
              "      <th>age</th>\n",
              "      <th>country</th>\n",
              "      <th>year</th>\n",
              "      <th>Date_Given</th>\n",
              "      <th>sports</th>\n",
              "      <th>gold_medal</th>\n",
              "      <th>silver_medal</th>\n",
              "      <th>brone_medal</th>\n",
              "      <th>total_medal</th>\n",
              "    </tr>\n",
              "  </thead>\n",
              "  <tbody>\n",
              "    <tr>\n",
              "      <th>17</th>\n",
              "      <td>Libby Lenton-Trickett</td>\n",
              "      <td>23.0</td>\n",
              "      <td>Australia</td>\n",
              "      <td>2008</td>\n",
              "      <td>8/24/2008</td>\n",
              "      <td>Swimming</td>\n",
              "      <td>2</td>\n",
              "      <td>1</td>\n",
              "      <td>1</td>\n",
              "      <td>4</td>\n",
              "    </tr>\n",
              "    <tr>\n",
              "      <th>23</th>\n",
              "      <td>Gary Hall Jr.</td>\n",
              "      <td>25.0</td>\n",
              "      <td>United States</td>\n",
              "      <td>2000</td>\n",
              "      <td>10-01-2000</td>\n",
              "      <td>Swimming</td>\n",
              "      <td>2</td>\n",
              "      <td>1</td>\n",
              "      <td>1</td>\n",
              "      <td>4</td>\n",
              "    </tr>\n",
              "    <tr>\n",
              "      <th>28</th>\n",
              "      <td>An Hyeon-Su</td>\n",
              "      <td>20.0</td>\n",
              "      <td>South Korea</td>\n",
              "      <td>2006</td>\n",
              "      <td>2/26/2006</td>\n",
              "      <td>Short-Track Speed Skating</td>\n",
              "      <td>3</td>\n",
              "      <td>0</td>\n",
              "      <td>1</td>\n",
              "      <td>4</td>\n",
              "    </tr>\n",
              "    <tr>\n",
              "      <th>32</th>\n",
              "      <td>Leontien Zijlaard-van Moorsel</td>\n",
              "      <td>30.0</td>\n",
              "      <td>Netherlands</td>\n",
              "      <td>2000</td>\n",
              "      <td>10-01-2000</td>\n",
              "      <td>Cycling</td>\n",
              "      <td>3</td>\n",
              "      <td>1</td>\n",
              "      <td>0</td>\n",
              "      <td>4</td>\n",
              "    </tr>\n",
              "    <tr>\n",
              "      <th>33</th>\n",
              "      <td>Petter Northug Jr.</td>\n",
              "      <td>24.0</td>\n",
              "      <td>Norway</td>\n",
              "      <td>2010</td>\n",
              "      <td>2/28/2010</td>\n",
              "      <td>Cross Country Skiing</td>\n",
              "      <td>2</td>\n",
              "      <td>1</td>\n",
              "      <td>1</td>\n",
              "      <td>4</td>\n",
              "    </tr>\n",
              "    <tr>\n",
              "      <th>...</th>\n",
              "      <td>...</td>\n",
              "      <td>...</td>\n",
              "      <td>...</td>\n",
              "      <td>...</td>\n",
              "      <td>...</td>\n",
              "      <td>...</td>\n",
              "      <td>...</td>\n",
              "      <td>...</td>\n",
              "      <td>...</td>\n",
              "      <td>...</td>\n",
              "    </tr>\n",
              "    <tr>\n",
              "      <th>8600</th>\n",
              "      <td>Yun Mi-Jin</td>\n",
              "      <td>21.0</td>\n",
              "      <td>South Korea</td>\n",
              "      <td>2004</td>\n",
              "      <td>8/29/2004</td>\n",
              "      <td>Archery</td>\n",
              "      <td>1</td>\n",
              "      <td>0</td>\n",
              "      <td>0</td>\n",
              "      <td>1</td>\n",
              "    </tr>\n",
              "    <tr>\n",
              "      <th>8607</th>\n",
              "      <td>Jang Yong-Ho</td>\n",
              "      <td>24.0</td>\n",
              "      <td>South Korea</td>\n",
              "      <td>2000</td>\n",
              "      <td>10-01-2000</td>\n",
              "      <td>Archery</td>\n",
              "      <td>1</td>\n",
              "      <td>0</td>\n",
              "      <td>0</td>\n",
              "      <td>1</td>\n",
              "    </tr>\n",
              "    <tr>\n",
              "      <th>8609</th>\n",
              "      <td>Kim Cheong-Tae</td>\n",
              "      <td>20.0</td>\n",
              "      <td>South Korea</td>\n",
              "      <td>2000</td>\n",
              "      <td>10-01-2000</td>\n",
              "      <td>Archery</td>\n",
              "      <td>1</td>\n",
              "      <td>0</td>\n",
              "      <td>0</td>\n",
              "      <td>1</td>\n",
              "    </tr>\n",
              "    <tr>\n",
              "      <th>8611</th>\n",
              "      <td>O Gyo-Mun</td>\n",
              "      <td>28.0</td>\n",
              "      <td>South Korea</td>\n",
              "      <td>2000</td>\n",
              "      <td>10-01-2000</td>\n",
              "      <td>Archery</td>\n",
              "      <td>1</td>\n",
              "      <td>0</td>\n",
              "      <td>0</td>\n",
              "      <td>1</td>\n",
              "    </tr>\n",
              "    <tr>\n",
              "      <th>8616</th>\n",
              "      <td>Sandra Wagner-Sachse</td>\n",
              "      <td>31.0</td>\n",
              "      <td>Germany</td>\n",
              "      <td>2000</td>\n",
              "      <td>10-01-2000</td>\n",
              "      <td>Archery</td>\n",
              "      <td>0</td>\n",
              "      <td>0</td>\n",
              "      <td>1</td>\n",
              "      <td>1</td>\n",
              "    </tr>\n",
              "  </tbody>\n",
              "</table>\n",
              "<p>725 rows × 10 columns</p>\n",
              "</div>\n",
              "      <button class=\"colab-df-convert\" onclick=\"convertToInteractive('df-bb20d20e-3acf-4a9a-bc12-8353c89fcf2a')\"\n",
              "              title=\"Convert this dataframe to an interactive table.\"\n",
              "              style=\"display:none;\">\n",
              "        \n",
              "  <svg xmlns=\"http://www.w3.org/2000/svg\" height=\"24px\"viewBox=\"0 0 24 24\"\n",
              "       width=\"24px\">\n",
              "    <path d=\"M0 0h24v24H0V0z\" fill=\"none\"/>\n",
              "    <path d=\"M18.56 5.44l.94 2.06.94-2.06 2.06-.94-2.06-.94-.94-2.06-.94 2.06-2.06.94zm-11 1L8.5 8.5l.94-2.06 2.06-.94-2.06-.94L8.5 2.5l-.94 2.06-2.06.94zm10 10l.94 2.06.94-2.06 2.06-.94-2.06-.94-.94-2.06-.94 2.06-2.06.94z\"/><path d=\"M17.41 7.96l-1.37-1.37c-.4-.4-.92-.59-1.43-.59-.52 0-1.04.2-1.43.59L10.3 9.45l-7.72 7.72c-.78.78-.78 2.05 0 2.83L4 21.41c.39.39.9.59 1.41.59.51 0 1.02-.2 1.41-.59l7.78-7.78 2.81-2.81c.8-.78.8-2.07 0-2.86zM5.41 20L4 18.59l7.72-7.72 1.47 1.35L5.41 20z\"/>\n",
              "  </svg>\n",
              "      </button>\n",
              "      \n",
              "  <style>\n",
              "    .colab-df-container {\n",
              "      display:flex;\n",
              "      flex-wrap:wrap;\n",
              "      gap: 12px;\n",
              "    }\n",
              "\n",
              "    .colab-df-convert {\n",
              "      background-color: #E8F0FE;\n",
              "      border: none;\n",
              "      border-radius: 50%;\n",
              "      cursor: pointer;\n",
              "      display: none;\n",
              "      fill: #1967D2;\n",
              "      height: 32px;\n",
              "      padding: 0 0 0 0;\n",
              "      width: 32px;\n",
              "    }\n",
              "\n",
              "    .colab-df-convert:hover {\n",
              "      background-color: #E2EBFA;\n",
              "      box-shadow: 0px 1px 2px rgba(60, 64, 67, 0.3), 0px 1px 3px 1px rgba(60, 64, 67, 0.15);\n",
              "      fill: #174EA6;\n",
              "    }\n",
              "\n",
              "    [theme=dark] .colab-df-convert {\n",
              "      background-color: #3B4455;\n",
              "      fill: #D2E3FC;\n",
              "    }\n",
              "\n",
              "    [theme=dark] .colab-df-convert:hover {\n",
              "      background-color: #434B5C;\n",
              "      box-shadow: 0px 1px 3px 1px rgba(0, 0, 0, 0.15);\n",
              "      filter: drop-shadow(0px 1px 2px rgba(0, 0, 0, 0.3));\n",
              "      fill: #FFFFFF;\n",
              "    }\n",
              "  </style>\n",
              "\n",
              "      <script>\n",
              "        const buttonEl =\n",
              "          document.querySelector('#df-bb20d20e-3acf-4a9a-bc12-8353c89fcf2a button.colab-df-convert');\n",
              "        buttonEl.style.display =\n",
              "          google.colab.kernel.accessAllowed ? 'block' : 'none';\n",
              "\n",
              "        async function convertToInteractive(key) {\n",
              "          const element = document.querySelector('#df-bb20d20e-3acf-4a9a-bc12-8353c89fcf2a');\n",
              "          const dataTable =\n",
              "            await google.colab.kernel.invokeFunction('convertToInteractive',\n",
              "                                                     [key], {});\n",
              "          if (!dataTable) return;\n",
              "\n",
              "          const docLinkHtml = 'Like what you see? Visit the ' +\n",
              "            '<a target=\"_blank\" href=https://colab.research.google.com/notebooks/data_table.ipynb>data table notebook</a>'\n",
              "            + ' to learn more about interactive tables.';\n",
              "          element.innerHTML = '';\n",
              "          dataTable['output_type'] = 'display_data';\n",
              "          await google.colab.output.renderOutput(dataTable, element);\n",
              "          const docLink = document.createElement('div');\n",
              "          docLink.innerHTML = docLinkHtml;\n",
              "          element.appendChild(docLink);\n",
              "        }\n",
              "      </script>\n",
              "    </div>\n",
              "  </div>\n",
              "  "
            ]
          },
          "metadata": {},
          "execution_count": 10
        }
      ]
    },
    {
      "cell_type": "code",
      "source": [
        "# To remove the special characters:\n",
        "\n",
        "df2.name=df2.name.str.replace('[@#&$%+-/*]',' ')\n",
        "df2"
      ],
      "metadata": {
        "colab": {
          "base_uri": "https://localhost:8080/",
          "height": 626
        },
        "id": "6Sp4GFJvTq2S",
        "outputId": "7d3d6e39-aa6d-49f5-db79-ee9165765144"
      },
      "execution_count": null,
      "outputs": [
        {
          "output_type": "stream",
          "name": "stderr",
          "text": [
            "/usr/local/lib/python3.7/dist-packages/ipykernel_launcher.py:3: FutureWarning: The default value of regex will change from True to False in a future version.\n",
            "  This is separate from the ipykernel package so we can avoid doing imports until\n",
            "/usr/local/lib/python3.7/dist-packages/pandas/core/generic.py:5516: SettingWithCopyWarning: \n",
            "A value is trying to be set on a copy of a slice from a DataFrame.\n",
            "Try using .loc[row_indexer,col_indexer] = value instead\n",
            "\n",
            "See the caveats in the documentation: https://pandas.pydata.org/pandas-docs/stable/user_guide/indexing.html#returning-a-view-versus-a-copy\n",
            "  self[name] = value\n"
          ]
        },
        {
          "output_type": "execute_result",
          "data": {
            "text/plain": [
              "                      name   age        country  year  Date_Given      sports  \\\n",
              "0           Michael Phelps  23.0  United States  2008   8/24/2008    Swimming   \n",
              "1           Michael Phelps  19.0  United States  2004   8/29/2004    Swimming   \n",
              "2           Michael Phelps  27.0  United States  2012  08-12-2012    Swimming   \n",
              "3         Natalie Coughlin  25.0  United States  2008   8/24/2008    Swimming   \n",
              "4            Aleksey Nemov  24.0         Russia  2000  10-01-2000  Gymnastics   \n",
              "...                    ...   ...            ...   ...         ...         ...   \n",
              "8613      Olena Sadovnycha  32.0        Ukraine  2000  10-01-2000     Archery   \n",
              "8614      Kateryna Serdiuk  17.0        Ukraine  2000  10-01-2000     Archery   \n",
              "8615      Wietse van Alten  21.0    Netherlands  2000  10-01-2000     Archery   \n",
              "8616  Sandra Wagner Sachse  31.0        Germany  2000  10-01-2000     Archery   \n",
              "8617             Rod White  23.0  United States  2000  10-01-2000     Archery   \n",
              "\n",
              "      gold_medal  silver_medal  brone_medal  total_medal  \n",
              "0              8             0            0            8  \n",
              "1              6             0            2            8  \n",
              "2              4             2            0            6  \n",
              "3              1             2            3            6  \n",
              "4              2             1            3            6  \n",
              "...          ...           ...          ...          ...  \n",
              "8613           0             1            0            1  \n",
              "8614           0             1            0            1  \n",
              "8615           0             0            1            1  \n",
              "8616           0             0            1            1  \n",
              "8617           0             0            1            1  \n",
              "\n",
              "[8615 rows x 10 columns]"
            ],
            "text/html": [
              "\n",
              "  <div id=\"df-eb0fd05d-cd4c-44cd-865f-a19a524b1eb9\">\n",
              "    <div class=\"colab-df-container\">\n",
              "      <div>\n",
              "<style scoped>\n",
              "    .dataframe tbody tr th:only-of-type {\n",
              "        vertical-align: middle;\n",
              "    }\n",
              "\n",
              "    .dataframe tbody tr th {\n",
              "        vertical-align: top;\n",
              "    }\n",
              "\n",
              "    .dataframe thead th {\n",
              "        text-align: right;\n",
              "    }\n",
              "</style>\n",
              "<table border=\"1\" class=\"dataframe\">\n",
              "  <thead>\n",
              "    <tr style=\"text-align: right;\">\n",
              "      <th></th>\n",
              "      <th>name</th>\n",
              "      <th>age</th>\n",
              "      <th>country</th>\n",
              "      <th>year</th>\n",
              "      <th>Date_Given</th>\n",
              "      <th>sports</th>\n",
              "      <th>gold_medal</th>\n",
              "      <th>silver_medal</th>\n",
              "      <th>brone_medal</th>\n",
              "      <th>total_medal</th>\n",
              "    </tr>\n",
              "  </thead>\n",
              "  <tbody>\n",
              "    <tr>\n",
              "      <th>0</th>\n",
              "      <td>Michael Phelps</td>\n",
              "      <td>23.0</td>\n",
              "      <td>United States</td>\n",
              "      <td>2008</td>\n",
              "      <td>8/24/2008</td>\n",
              "      <td>Swimming</td>\n",
              "      <td>8</td>\n",
              "      <td>0</td>\n",
              "      <td>0</td>\n",
              "      <td>8</td>\n",
              "    </tr>\n",
              "    <tr>\n",
              "      <th>1</th>\n",
              "      <td>Michael Phelps</td>\n",
              "      <td>19.0</td>\n",
              "      <td>United States</td>\n",
              "      <td>2004</td>\n",
              "      <td>8/29/2004</td>\n",
              "      <td>Swimming</td>\n",
              "      <td>6</td>\n",
              "      <td>0</td>\n",
              "      <td>2</td>\n",
              "      <td>8</td>\n",
              "    </tr>\n",
              "    <tr>\n",
              "      <th>2</th>\n",
              "      <td>Michael Phelps</td>\n",
              "      <td>27.0</td>\n",
              "      <td>United States</td>\n",
              "      <td>2012</td>\n",
              "      <td>08-12-2012</td>\n",
              "      <td>Swimming</td>\n",
              "      <td>4</td>\n",
              "      <td>2</td>\n",
              "      <td>0</td>\n",
              "      <td>6</td>\n",
              "    </tr>\n",
              "    <tr>\n",
              "      <th>3</th>\n",
              "      <td>Natalie Coughlin</td>\n",
              "      <td>25.0</td>\n",
              "      <td>United States</td>\n",
              "      <td>2008</td>\n",
              "      <td>8/24/2008</td>\n",
              "      <td>Swimming</td>\n",
              "      <td>1</td>\n",
              "      <td>2</td>\n",
              "      <td>3</td>\n",
              "      <td>6</td>\n",
              "    </tr>\n",
              "    <tr>\n",
              "      <th>4</th>\n",
              "      <td>Aleksey Nemov</td>\n",
              "      <td>24.0</td>\n",
              "      <td>Russia</td>\n",
              "      <td>2000</td>\n",
              "      <td>10-01-2000</td>\n",
              "      <td>Gymnastics</td>\n",
              "      <td>2</td>\n",
              "      <td>1</td>\n",
              "      <td>3</td>\n",
              "      <td>6</td>\n",
              "    </tr>\n",
              "    <tr>\n",
              "      <th>...</th>\n",
              "      <td>...</td>\n",
              "      <td>...</td>\n",
              "      <td>...</td>\n",
              "      <td>...</td>\n",
              "      <td>...</td>\n",
              "      <td>...</td>\n",
              "      <td>...</td>\n",
              "      <td>...</td>\n",
              "      <td>...</td>\n",
              "      <td>...</td>\n",
              "    </tr>\n",
              "    <tr>\n",
              "      <th>8613</th>\n",
              "      <td>Olena Sadovnycha</td>\n",
              "      <td>32.0</td>\n",
              "      <td>Ukraine</td>\n",
              "      <td>2000</td>\n",
              "      <td>10-01-2000</td>\n",
              "      <td>Archery</td>\n",
              "      <td>0</td>\n",
              "      <td>1</td>\n",
              "      <td>0</td>\n",
              "      <td>1</td>\n",
              "    </tr>\n",
              "    <tr>\n",
              "      <th>8614</th>\n",
              "      <td>Kateryna Serdiuk</td>\n",
              "      <td>17.0</td>\n",
              "      <td>Ukraine</td>\n",
              "      <td>2000</td>\n",
              "      <td>10-01-2000</td>\n",
              "      <td>Archery</td>\n",
              "      <td>0</td>\n",
              "      <td>1</td>\n",
              "      <td>0</td>\n",
              "      <td>1</td>\n",
              "    </tr>\n",
              "    <tr>\n",
              "      <th>8615</th>\n",
              "      <td>Wietse van Alten</td>\n",
              "      <td>21.0</td>\n",
              "      <td>Netherlands</td>\n",
              "      <td>2000</td>\n",
              "      <td>10-01-2000</td>\n",
              "      <td>Archery</td>\n",
              "      <td>0</td>\n",
              "      <td>0</td>\n",
              "      <td>1</td>\n",
              "      <td>1</td>\n",
              "    </tr>\n",
              "    <tr>\n",
              "      <th>8616</th>\n",
              "      <td>Sandra Wagner Sachse</td>\n",
              "      <td>31.0</td>\n",
              "      <td>Germany</td>\n",
              "      <td>2000</td>\n",
              "      <td>10-01-2000</td>\n",
              "      <td>Archery</td>\n",
              "      <td>0</td>\n",
              "      <td>0</td>\n",
              "      <td>1</td>\n",
              "      <td>1</td>\n",
              "    </tr>\n",
              "    <tr>\n",
              "      <th>8617</th>\n",
              "      <td>Rod White</td>\n",
              "      <td>23.0</td>\n",
              "      <td>United States</td>\n",
              "      <td>2000</td>\n",
              "      <td>10-01-2000</td>\n",
              "      <td>Archery</td>\n",
              "      <td>0</td>\n",
              "      <td>0</td>\n",
              "      <td>1</td>\n",
              "      <td>1</td>\n",
              "    </tr>\n",
              "  </tbody>\n",
              "</table>\n",
              "<p>8615 rows × 10 columns</p>\n",
              "</div>\n",
              "      <button class=\"colab-df-convert\" onclick=\"convertToInteractive('df-eb0fd05d-cd4c-44cd-865f-a19a524b1eb9')\"\n",
              "              title=\"Convert this dataframe to an interactive table.\"\n",
              "              style=\"display:none;\">\n",
              "        \n",
              "  <svg xmlns=\"http://www.w3.org/2000/svg\" height=\"24px\"viewBox=\"0 0 24 24\"\n",
              "       width=\"24px\">\n",
              "    <path d=\"M0 0h24v24H0V0z\" fill=\"none\"/>\n",
              "    <path d=\"M18.56 5.44l.94 2.06.94-2.06 2.06-.94-2.06-.94-.94-2.06-.94 2.06-2.06.94zm-11 1L8.5 8.5l.94-2.06 2.06-.94-2.06-.94L8.5 2.5l-.94 2.06-2.06.94zm10 10l.94 2.06.94-2.06 2.06-.94-2.06-.94-.94-2.06-.94 2.06-2.06.94z\"/><path d=\"M17.41 7.96l-1.37-1.37c-.4-.4-.92-.59-1.43-.59-.52 0-1.04.2-1.43.59L10.3 9.45l-7.72 7.72c-.78.78-.78 2.05 0 2.83L4 21.41c.39.39.9.59 1.41.59.51 0 1.02-.2 1.41-.59l7.78-7.78 2.81-2.81c.8-.78.8-2.07 0-2.86zM5.41 20L4 18.59l7.72-7.72 1.47 1.35L5.41 20z\"/>\n",
              "  </svg>\n",
              "      </button>\n",
              "      \n",
              "  <style>\n",
              "    .colab-df-container {\n",
              "      display:flex;\n",
              "      flex-wrap:wrap;\n",
              "      gap: 12px;\n",
              "    }\n",
              "\n",
              "    .colab-df-convert {\n",
              "      background-color: #E8F0FE;\n",
              "      border: none;\n",
              "      border-radius: 50%;\n",
              "      cursor: pointer;\n",
              "      display: none;\n",
              "      fill: #1967D2;\n",
              "      height: 32px;\n",
              "      padding: 0 0 0 0;\n",
              "      width: 32px;\n",
              "    }\n",
              "\n",
              "    .colab-df-convert:hover {\n",
              "      background-color: #E2EBFA;\n",
              "      box-shadow: 0px 1px 2px rgba(60, 64, 67, 0.3), 0px 1px 3px 1px rgba(60, 64, 67, 0.15);\n",
              "      fill: #174EA6;\n",
              "    }\n",
              "\n",
              "    [theme=dark] .colab-df-convert {\n",
              "      background-color: #3B4455;\n",
              "      fill: #D2E3FC;\n",
              "    }\n",
              "\n",
              "    [theme=dark] .colab-df-convert:hover {\n",
              "      background-color: #434B5C;\n",
              "      box-shadow: 0px 1px 3px 1px rgba(0, 0, 0, 0.15);\n",
              "      filter: drop-shadow(0px 1px 2px rgba(0, 0, 0, 0.3));\n",
              "      fill: #FFFFFF;\n",
              "    }\n",
              "  </style>\n",
              "\n",
              "      <script>\n",
              "        const buttonEl =\n",
              "          document.querySelector('#df-eb0fd05d-cd4c-44cd-865f-a19a524b1eb9 button.colab-df-convert');\n",
              "        buttonEl.style.display =\n",
              "          google.colab.kernel.accessAllowed ? 'block' : 'none';\n",
              "\n",
              "        async function convertToInteractive(key) {\n",
              "          const element = document.querySelector('#df-eb0fd05d-cd4c-44cd-865f-a19a524b1eb9');\n",
              "          const dataTable =\n",
              "            await google.colab.kernel.invokeFunction('convertToInteractive',\n",
              "                                                     [key], {});\n",
              "          if (!dataTable) return;\n",
              "\n",
              "          const docLinkHtml = 'Like what you see? Visit the ' +\n",
              "            '<a target=\"_blank\" href=https://colab.research.google.com/notebooks/data_table.ipynb>data table notebook</a>'\n",
              "            + ' to learn more about interactive tables.';\n",
              "          element.innerHTML = '';\n",
              "          dataTable['output_type'] = 'display_data';\n",
              "          await google.colab.output.renderOutput(dataTable, element);\n",
              "          const docLink = document.createElement('div');\n",
              "          docLink.innerHTML = docLinkHtml;\n",
              "          element.appendChild(docLink);\n",
              "        }\n",
              "      </script>\n",
              "    </div>\n",
              "  </div>\n",
              "  "
            ]
          },
          "metadata": {},
          "execution_count": 11
        }
      ]
    },
    {
      "cell_type": "markdown",
      "source": [
        "###**Perform data visualization techniques to appropriate columns and explain them.**  "
      ],
      "metadata": {
        "id": "zep30ea_YGnf"
      }
    },
    {
      "cell_type": "markdown",
      "source": [
        "There are 3 types of data visualizations are there :-\n",
        "\n",
        "1. Univariate analysis\n",
        "\n",
        "2. Bivariate analysis\n",
        "\n",
        "3. Multivariate analysis\n"
      ],
      "metadata": {
        "id": "AlAjcdDLJDhw"
      }
    },
    {
      "cell_type": "markdown",
      "source": [
        "1. Univariate analysis\n",
        "\n",
        "Univariate analysis is basically the simplest form to analyze data. Uni means one and this means that the data has only one kind of variable. The major reason for univariate analysis is to use the data to describe the distribution. The analysis will take data, summarise it, and then find some pattern in the data."
      ],
      "metadata": {
        "id": "ZH76iom1JQOa"
      }
    },
    {
      "cell_type": "code",
      "source": [
        "# Distribution of Age\n",
        "\n",
        "sns.distplot(df2['age'])\n",
        "plt.axvline(x=np.mean(df2['age']),color='red',ls='--',label='mean') #axvline() function in axes module of matplotlib library is used to add a vertical line across the axis. \n",
        "plt.axvline(x=np.median(df2['age']),color='orange',ls=':',label='median')\n",
        "plt.legend()\n",
        "\n"
      ],
      "metadata": {
        "colab": {
          "base_uri": "https://localhost:8080/",
          "height": 386
        },
        "id": "iIJWzmagV4HR",
        "outputId": "6efd8bcd-6be0-49e4-93e9-f6a83c83b15c"
      },
      "execution_count": null,
      "outputs": [
        {
          "output_type": "stream",
          "name": "stderr",
          "text": [
            "/usr/local/lib/python3.7/dist-packages/seaborn/distributions.py:2619: FutureWarning:\n",
            "\n",
            "`distplot` is a deprecated function and will be removed in a future version. Please adapt your code to use either `displot` (a figure-level function with similar flexibility) or `histplot` (an axes-level function for histograms).\n",
            "\n"
          ]
        },
        {
          "output_type": "execute_result",
          "data": {
            "text/plain": [
              "<matplotlib.legend.Legend at 0x7f2877601f50>"
            ]
          },
          "metadata": {},
          "execution_count": 31
        },
        {
          "output_type": "display_data",
          "data": {
            "text/plain": [
              "<Figure size 432x288 with 1 Axes>"
            ],
            "image/png": "[encoded data removed]"
          },
          "metadata": {
            "needs_background": "light"
          }
        }
      ]
    },
    {
      "cell_type": "code",
      "source": [
        "mean=np.mean(df2['age'])\n",
        "mean"
      ],
      "metadata": {
        "colab": {
          "base_uri": "https://localhost:8080/"
        },
        "id": "gEMcx7ybLnFl",
        "outputId": "037accf5-69cd-4d33-dfb2-429359556d0e"
      },
      "execution_count": null,
      "outputs": [
        {
          "output_type": "execute_result",
          "data": {
            "text/plain": [
              "26.39930354033662"
            ]
          },
          "metadata": {},
          "execution_count": 28
        }
      ]
    },
    {
      "cell_type": "code",
      "source": [
        "median=np.median(df2['age'])\n",
        "median"
      ],
      "metadata": {
        "colab": {
          "base_uri": "https://localhost:8080/"
        },
        "id": "2_lOXPmhLuwN",
        "outputId": "f5f7a4a0-8b82-4bf1-8f03-1987a0e4d389"
      },
      "execution_count": null,
      "outputs": [
        {
          "output_type": "execute_result",
          "data": {
            "text/plain": [
              "26.0"
            ]
          },
          "metadata": {},
          "execution_count": 29
        }
      ]
    },
    {
      "cell_type": "markdown",
      "source": [
        "**Explanation:** From the above output it is clear that the distribution of age is positively skewed. The mean and median are almost equal thus, we can say that the data is almost symmetric.\n",
        "\n",
        "Also, the average age of sportspersons played or won is 26."
      ],
      "metadata": {
        "id": "qFRMk3te9V1O"
      }
    },
    {
      "cell_type": "markdown",
      "source": [
        "**2. Bivariate Analysis**\n",
        "\n",
        "Bivariate analysis is one of the statistical analysis where two variables are observed. One variable here is dependent while the other is independent. These variables are usually denoted by X and Y. So, here we analyse the changes occured between the two variables and to what extent."
      ],
      "metadata": {
        "id": "VTbbKqMHNMKB"
      }
    },
    {
      "cell_type": "code",
      "source": [
        "# 2. To analyse which are top 10 players based on number of gold medals won:-\n",
        "\n",
        "df2.sort_values(by=['gold_medal'], inplace=True)\n",
        "gold1 = df2.tail(10)\n",
        "fig = plt.figure(figsize=(15,10))\n",
        "plt.title(\"Top 10 players with maximum gold medals\")\n",
        "sns.barplot(x='name', y='gold_medal', data=gold1) \n",
        "plt.xticks(rotation=90)\n"
      ],
      "metadata": {
        "id": "SUvYAqUcgcLu",
        "colab": {
          "base_uri": "https://localhost:8080/",
          "height": 731
        },
        "outputId": "d12caa83-45e7-4242-c308-2c5b90e62a4d"
      },
      "execution_count": null,
      "outputs": [
        {
          "output_type": "execute_result",
          "data": {
            "text/plain": [
              "(array([0, 1, 2, 3, 4, 5, 6, 7]), <a list of 8 Text major ticklabel objects>)"
            ]
          },
          "metadata": {},
          "execution_count": 37
        },
        {
          "output_type": "display_data",
          "data": {
            "text/plain": [
              "<Figure size 1080x720 with 1 Axes>"
            ],
            "image/png": "[encoded data removed]"
          },
          "metadata": {
            "needs_background": "light"
          }
        }
      ]
    },
    {
      "cell_type": "markdown",
      "source": [
        "Here, the black line over Michael shows that there is some error. To overcome that, we can use ci=None in the plot after data=df, ci=None."
      ],
      "metadata": {
        "id": "N4hSJY5IN8L7"
      }
    },
    {
      "cell_type": "markdown",
      "source": [
        "**Explanation:** The above graph clearly depicts that Michael Phelps has the maximum number of gold medals.\n",
        "\n",
        "Similarly, we can analyse who won maximum silver and bronze medals also."
      ],
      "metadata": {
        "id": "0pYdBX4UQC1V"
      }
    },
    {
      "cell_type": "markdown",
      "source": [
        "**3. Multivariate (M): Comparing more than 2 variables is called as Multivariate analysis.**\n"
      ],
      "metadata": {
        "id": "fhyJQ82HQklM"
      }
    },
    {
      "cell_type": "code",
      "source": [
        "sns.pairplot(df2,diag_kind='kde')"
      ],
      "metadata": {
        "colab": {
          "base_uri": "https://localhost:8080/",
          "height": 1000
        },
        "id": "5IS19073RhCQ",
        "outputId": "d9b38106-a861-4a46-8d3e-d144d76290ff"
      },
      "execution_count": null,
      "outputs": [
        {
          "output_type": "execute_result",
          "data": {
            "text/plain": [
              "<seaborn.axisgrid.PairGrid at 0x7f28776c80d0>"
            ]
          },
          "metadata": {},
          "execution_count": 38
        },
        {
          "output_type": "display_data",
          "data": {
            "text/plain": [
              "<Figure size 1080x1080 with 42 Axes>"
            ],
            "image/png": "[encoded data removed]"
          },
          "metadata": {
            "needs_background": "light"
          }
        }
      ]
    },
    {
      "cell_type": "markdown",
      "source": [
        "**Explanation:** In the above code, I have used pair plot to demonstrate the relationship of all attributes with each other.Pairplot visualizes given data to find the relationship between them where the variables can be continuous or categorical.\n",
        "\n",
        "As we have n number of features in this dataset, Pair plot will help us create a (n x n) figure where the diagonal plots will be histogram plot of the feature corresponding to that row and rest of the plots are the combination of feature from each row in y axis and feature from each column in x axis."
      ],
      "metadata": {
        "id": "Wug2CGQ3SHgC"
      }
    },
    {
      "cell_type": "markdown",
      "source": [
        "###**Checking if the age dataset is skewed or symmetric**"
      ],
      "metadata": {
        "id": "pk2f5552SzQ6"
      }
    },
    {
      "cell_type": "code",
      "source": [
        "# To check the skewness \n",
        "df2.age.skew()"
      ],
      "metadata": {
        "colab": {
          "base_uri": "https://localhost:8080/"
        },
        "id": "yooVmkMoSr3N",
        "outputId": "be4c849f-0160-4be1-dc5a-d100ffa84df9"
      },
      "execution_count": null,
      "outputs": [
        {
          "output_type": "execute_result",
          "data": {
            "text/plain": [
              "0.8228435580507555"
            ]
          },
          "metadata": {},
          "execution_count": 39
        }
      ]
    },
    {
      "cell_type": "code",
      "source": [
        "# Anyalysing the skewness with the help of histogram \n",
        "sns.histplot(x='age', data=df2, kde=True)"
      ],
      "metadata": {
        "colab": {
          "base_uri": "https://localhost:8080/",
          "height": 296
        },
        "id": "TTeubokPTDKc",
        "outputId": "98a3dabe-47ae-42d7-ee83-e62e50fc33ca"
      },
      "execution_count": null,
      "outputs": [
        {
          "output_type": "execute_result",
          "data": {
            "text/plain": [
              "<matplotlib.axes._subplots.AxesSubplot at 0x7f28764c75d0>"
            ]
          },
          "metadata": {},
          "execution_count": 41
        },
        {
          "output_type": "display_data",
          "data": {
            "text/plain": [
              "<Figure size 432x288 with 1 Axes>"
            ],
            "image/png": "[encoded data removed]"
          },
          "metadata": {
            "needs_background": "light"
          }
        }
      ]
    },
    {
      "cell_type": "markdown",
      "source": [
        "As discussed earlier also, the age data is moderately skewed and from the above graph, it is clearly visible that the data is positively skewed.\n",
        "\n",
        "**The skewness in age is=0.8228435580507555, it is not much but it can still interfere with our data analysis. Thus, to make the data symetric, we will use log transformation**"
      ],
      "metadata": {
        "id": "NXkC0xHrTPkR"
      }
    },
    {
      "cell_type": "code",
      "source": [
        "olympic_log = df2.copy(deep=True)\n",
        "olympic_log['age'] = np.log(olympic_log['age'])\n",
        "sns.histplot(x='age', data=olympic_log, kde=True)"
      ],
      "metadata": {
        "colab": {
          "base_uri": "https://localhost:8080/",
          "height": 366
        },
        "id": "IAEWPgr2Vp1W",
        "outputId": "7712b913-4667-4a5a-c10a-07d4be3f7598"
      },
      "execution_count": null,
      "outputs": [
        {
          "output_type": "stream",
          "name": "stderr",
          "text": [
            "/usr/local/lib/python3.7/dist-packages/pandas/core/arraylike.py:364: RuntimeWarning:\n",
            "\n",
            "divide by zero encountered in log\n",
            "\n"
          ]
        },
        {
          "output_type": "execute_result",
          "data": {
            "text/plain": [
              "<matplotlib.axes._subplots.AxesSubplot at 0x7f287631d1d0>"
            ]
          },
          "metadata": {},
          "execution_count": 45
        },
        {
          "output_type": "display_data",
          "data": {
            "text/plain": [
              "<Figure size 432x288 with 1 Axes>"
            ],
            "image/png": "[encoded data removed]"
          },
          "metadata": {
            "needs_background": "light"
          }
        }
      ]
    },
    {
      "cell_type": "markdown",
      "source": [
        "The above histogram represents normal distribution."
      ],
      "metadata": {
        "id": "L1MnvPeQWRdY"
      }
    },
    {
      "cell_type": "markdown",
      "source": [
        "###**Perform appropriate numerical measures on each column and report them accordingly.**"
      ],
      "metadata": {
        "id": "weCOJ7z4W2Yf"
      }
    },
    {
      "cell_type": "code",
      "source": [
        "# To represent the columns statistically, we will use:\n",
        "\n",
        "df2.describe()"
      ],
      "metadata": {
        "colab": {
          "base_uri": "https://localhost:8080/",
          "height": 300
        },
        "id": "BY5gzcq3WXlA",
        "outputId": "4f38ef46-16a9-4191-cb7e-7c9c032e6283"
      },
      "execution_count": null,
      "outputs": [
        {
          "output_type": "execute_result",
          "data": {
            "text/plain": [
              "               age         year   gold_medal  silver_medal  brone_medal  \\\n",
              "count  8615.000000  8615.000000  8615.000000   8615.000000  8615.000000   \n",
              "mean     26.399304  2005.976785     0.364829      0.363088     0.377829   \n",
              "std       5.117364     4.289221     0.545401      0.511564     0.505044   \n",
              "min       0.000000  2000.000000     0.000000      0.000000     0.000000   \n",
              "25%      23.000000  2002.000000     0.000000      0.000000     0.000000   \n",
              "50%      26.000000  2006.000000     0.000000      0.000000     0.000000   \n",
              "75%      29.000000  2010.000000     1.000000      1.000000     1.000000   \n",
              "max      61.000000  2012.000000     8.000000      3.000000     3.000000   \n",
              "\n",
              "       total_medal  \n",
              "count  8615.000000  \n",
              "mean      1.105746  \n",
              "std       0.408958  \n",
              "min       1.000000  \n",
              "25%       1.000000  \n",
              "50%       1.000000  \n",
              "75%       1.000000  \n",
              "max       8.000000  "
            ],
            "text/html": [
              "\n",
              "  <div id=\"df-3eb81cac-22e5-4679-88d9-0181cced352e\">\n",
              "    <div class=\"colab-df-container\">\n",
              "      <div>\n",
              "<style scoped>\n",
              "    .dataframe tbody tr th:only-of-type {\n",
              "        vertical-align: middle;\n",
              "    }\n",
              "\n",
              "    .dataframe tbody tr th {\n",
              "        vertical-align: top;\n",
              "    }\n",
              "\n",
              "    .dataframe thead th {\n",
              "        text-align: right;\n",
              "    }\n",
              "</style>\n",
              "<table border=\"1\" class=\"dataframe\">\n",
              "  <thead>\n",
              "    <tr style=\"text-align: right;\">\n",
              "      <th></th>\n",
              "      <th>age</th>\n",
              "      <th>year</th>\n",
              "      <th>gold_medal</th>\n",
              "      <th>silver_medal</th>\n",
              "      <th>brone_medal</th>\n",
              "      <th>total_medal</th>\n",
              "    </tr>\n",
              "  </thead>\n",
              "  <tbody>\n",
              "    <tr>\n",
              "      <th>count</th>\n",
              "      <td>8615.000000</td>\n",
              "      <td>8615.000000</td>\n",
              "      <td>8615.000000</td>\n",
              "      <td>8615.000000</td>\n",
              "      <td>8615.000000</td>\n",
              "      <td>8615.000000</td>\n",
              "    </tr>\n",
              "    <tr>\n",
              "      <th>mean</th>\n",
              "      <td>26.399304</td>\n",
              "      <td>2005.976785</td>\n",
              "      <td>0.364829</td>\n",
              "      <td>0.363088</td>\n",
              "      <td>0.377829</td>\n",
              "      <td>1.105746</td>\n",
              "    </tr>\n",
              "    <tr>\n",
              "      <th>std</th>\n",
              "      <td>5.117364</td>\n",
              "      <td>4.289221</td>\n",
              "      <td>0.545401</td>\n",
              "      <td>0.511564</td>\n",
              "      <td>0.505044</td>\n",
              "      <td>0.408958</td>\n",
              "    </tr>\n",
              "    <tr>\n",
              "      <th>min</th>\n",
              "      <td>0.000000</td>\n",
              "      <td>2000.000000</td>\n",
              "      <td>0.000000</td>\n",
              "      <td>0.000000</td>\n",
              "      <td>0.000000</td>\n",
              "      <td>1.000000</td>\n",
              "    </tr>\n",
              "    <tr>\n",
              "      <th>25%</th>\n",
              "      <td>23.000000</td>\n",
              "      <td>2002.000000</td>\n",
              "      <td>0.000000</td>\n",
              "      <td>0.000000</td>\n",
              "      <td>0.000000</td>\n",
              "      <td>1.000000</td>\n",
              "    </tr>\n",
              "    <tr>\n",
              "      <th>50%</th>\n",
              "      <td>26.000000</td>\n",
              "      <td>2006.000000</td>\n",
              "      <td>0.000000</td>\n",
              "      <td>0.000000</td>\n",
              "      <td>0.000000</td>\n",
              "      <td>1.000000</td>\n",
              "    </tr>\n",
              "    <tr>\n",
              "      <th>75%</th>\n",
              "      <td>29.000000</td>\n",
              "      <td>2010.000000</td>\n",
              "      <td>1.000000</td>\n",
              "      <td>1.000000</td>\n",
              "      <td>1.000000</td>\n",
              "      <td>1.000000</td>\n",
              "    </tr>\n",
              "    <tr>\n",
              "      <th>max</th>\n",
              "      <td>61.000000</td>\n",
              "      <td>2012.000000</td>\n",
              "      <td>8.000000</td>\n",
              "      <td>3.000000</td>\n",
              "      <td>3.000000</td>\n",
              "      <td>8.000000</td>\n",
              "    </tr>\n",
              "  </tbody>\n",
              "</table>\n",
              "</div>\n",
              "      <button class=\"colab-df-convert\" onclick=\"convertToInteractive('df-3eb81cac-22e5-4679-88d9-0181cced352e')\"\n",
              "              title=\"Convert this dataframe to an interactive table.\"\n",
              "              style=\"display:none;\">\n",
              "        \n",
              "  <svg xmlns=\"http://www.w3.org/2000/svg\" height=\"24px\"viewBox=\"0 0 24 24\"\n",
              "       width=\"24px\">\n",
              "    <path d=\"M0 0h24v24H0V0z\" fill=\"none\"/>\n",
              "    <path d=\"M18.56 5.44l.94 2.06.94-2.06 2.06-.94-2.06-.94-.94-2.06-.94 2.06-2.06.94zm-11 1L8.5 8.5l.94-2.06 2.06-.94-2.06-.94L8.5 2.5l-.94 2.06-2.06.94zm10 10l.94 2.06.94-2.06 2.06-.94-2.06-.94-.94-2.06-.94 2.06-2.06.94z\"/><path d=\"M17.41 7.96l-1.37-1.37c-.4-.4-.92-.59-1.43-.59-.52 0-1.04.2-1.43.59L10.3 9.45l-7.72 7.72c-.78.78-.78 2.05 0 2.83L4 21.41c.39.39.9.59 1.41.59.51 0 1.02-.2 1.41-.59l7.78-7.78 2.81-2.81c.8-.78.8-2.07 0-2.86zM5.41 20L4 18.59l7.72-7.72 1.47 1.35L5.41 20z\"/>\n",
              "  </svg>\n",
              "      </button>\n",
              "      \n",
              "  <style>\n",
              "    .colab-df-container {\n",
              "      display:flex;\n",
              "      flex-wrap:wrap;\n",
              "      gap: 12px;\n",
              "    }\n",
              "\n",
              "    .colab-df-convert {\n",
              "      background-color: #E8F0FE;\n",
              "      border: none;\n",
              "      border-radius: 50%;\n",
              "      cursor: pointer;\n",
              "      display: none;\n",
              "      fill: #1967D2;\n",
              "      height: 32px;\n",
              "      padding: 0 0 0 0;\n",
              "      width: 32px;\n",
              "    }\n",
              "\n",
              "    .colab-df-convert:hover {\n",
              "      background-color: #E2EBFA;\n",
              "      box-shadow: 0px 1px 2px rgba(60, 64, 67, 0.3), 0px 1px 3px 1px rgba(60, 64, 67, 0.15);\n",
              "      fill: #174EA6;\n",
              "    }\n",
              "\n",
              "    [theme=dark] .colab-df-convert {\n",
              "      background-color: #3B4455;\n",
              "      fill: #D2E3FC;\n",
              "    }\n",
              "\n",
              "    [theme=dark] .colab-df-convert:hover {\n",
              "      background-color: #434B5C;\n",
              "      box-shadow: 0px 1px 3px 1px rgba(0, 0, 0, 0.15);\n",
              "      filter: drop-shadow(0px 1px 2px rgba(0, 0, 0, 0.3));\n",
              "      fill: #FFFFFF;\n",
              "    }\n",
              "  </style>\n",
              "\n",
              "      <script>\n",
              "        const buttonEl =\n",
              "          document.querySelector('#df-3eb81cac-22e5-4679-88d9-0181cced352e button.colab-df-convert');\n",
              "        buttonEl.style.display =\n",
              "          google.colab.kernel.accessAllowed ? 'block' : 'none';\n",
              "\n",
              "        async function convertToInteractive(key) {\n",
              "          const element = document.querySelector('#df-3eb81cac-22e5-4679-88d9-0181cced352e');\n",
              "          const dataTable =\n",
              "            await google.colab.kernel.invokeFunction('convertToInteractive',\n",
              "                                                     [key], {});\n",
              "          if (!dataTable) return;\n",
              "\n",
              "          const docLinkHtml = 'Like what you see? Visit the ' +\n",
              "            '<a target=\"_blank\" href=https://colab.research.google.com/notebooks/data_table.ipynb>data table notebook</a>'\n",
              "            + ' to learn more about interactive tables.';\n",
              "          element.innerHTML = '';\n",
              "          dataTable['output_type'] = 'display_data';\n",
              "          await google.colab.output.renderOutput(dataTable, element);\n",
              "          const docLink = document.createElement('div');\n",
              "          docLink.innerHTML = docLinkHtml;\n",
              "          element.appendChild(docLink);\n",
              "        }\n",
              "      </script>\n",
              "    </div>\n",
              "  </div>\n",
              "  "
            ]
          },
          "metadata": {},
          "execution_count": 46
        }
      ]
    },
    {
      "cell_type": "markdown",
      "source": [
        "**Explanation:** Above output displays the total counts, average value, standard daviation, minimum value, IQ1, IQ2, IQ3 and the maximum values of each and every column."
      ],
      "metadata": {
        "id": "0D7XdOwVXJ7X"
      }
    },
    {
      "cell_type": "code",
      "source": [
        "# In the above output, we can see that the describe function only displays values for quantitative features\n",
        "\n",
        "# So, to define categorical features statistically, we will use:-\n",
        "\n",
        "df2.describe(include=object)"
      ],
      "metadata": {
        "colab": {
          "base_uri": "https://localhost:8080/",
          "height": 175
        },
        "id": "yPNy0sOBXhQt",
        "outputId": "8e60cc7a-c362-4409-84cf-905d7a1644cc"
      },
      "execution_count": null,
      "outputs": [
        {
          "output_type": "execute_result",
          "data": {
            "text/plain": [
              "                 name        country Date_Given     sports\n",
              "count            8615           8615       8615       8615\n",
              "unique           6956            110          7         49\n",
              "top     Heather Petri  United States  8/24/2008  Athletics\n",
              "freq                4           1109       1872        687"
            ],
            "text/html": [
              "\n",
              "  <div id=\"df-e751957e-9d83-45d1-b6c4-21b185e5358d\">\n",
              "    <div class=\"colab-df-container\">\n",
              "      <div>\n",
              "<style scoped>\n",
              "    .dataframe tbody tr th:only-of-type {\n",
              "        vertical-align: middle;\n",
              "    }\n",
              "\n",
              "    .dataframe tbody tr th {\n",
              "        vertical-align: top;\n",
              "    }\n",
              "\n",
              "    .dataframe thead th {\n",
              "        text-align: right;\n",
              "    }\n",
              "</style>\n",
              "<table border=\"1\" class=\"dataframe\">\n",
              "  <thead>\n",
              "    <tr style=\"text-align: right;\">\n",
              "      <th></th>\n",
              "      <th>name</th>\n",
              "      <th>country</th>\n",
              "      <th>Date_Given</th>\n",
              "      <th>sports</th>\n",
              "    </tr>\n",
              "  </thead>\n",
              "  <tbody>\n",
              "    <tr>\n",
              "      <th>count</th>\n",
              "      <td>8615</td>\n",
              "      <td>8615</td>\n",
              "      <td>8615</td>\n",
              "      <td>8615</td>\n",
              "    </tr>\n",
              "    <tr>\n",
              "      <th>unique</th>\n",
              "      <td>6956</td>\n",
              "      <td>110</td>\n",
              "      <td>7</td>\n",
              "      <td>49</td>\n",
              "    </tr>\n",
              "    <tr>\n",
              "      <th>top</th>\n",
              "      <td>Heather Petri</td>\n",
              "      <td>United States</td>\n",
              "      <td>8/24/2008</td>\n",
              "      <td>Athletics</td>\n",
              "    </tr>\n",
              "    <tr>\n",
              "      <th>freq</th>\n",
              "      <td>4</td>\n",
              "      <td>1109</td>\n",
              "      <td>1872</td>\n",
              "      <td>687</td>\n",
              "    </tr>\n",
              "  </tbody>\n",
              "</table>\n",
              "</div>\n",
              "      <button class=\"colab-df-convert\" onclick=\"convertToInteractive('df-e751957e-9d83-45d1-b6c4-21b185e5358d')\"\n",
              "              title=\"Convert this dataframe to an interactive table.\"\n",
              "              style=\"display:none;\">\n",
              "        \n",
              "  <svg xmlns=\"http://www.w3.org/2000/svg\" height=\"24px\"viewBox=\"0 0 24 24\"\n",
              "       width=\"24px\">\n",
              "    <path d=\"M0 0h24v24H0V0z\" fill=\"none\"/>\n",
              "    <path d=\"M18.56 5.44l.94 2.06.94-2.06 2.06-.94-2.06-.94-.94-2.06-.94 2.06-2.06.94zm-11 1L8.5 8.5l.94-2.06 2.06-.94-2.06-.94L8.5 2.5l-.94 2.06-2.06.94zm10 10l.94 2.06.94-2.06 2.06-.94-2.06-.94-.94-2.06-.94 2.06-2.06.94z\"/><path d=\"M17.41 7.96l-1.37-1.37c-.4-.4-.92-.59-1.43-.59-.52 0-1.04.2-1.43.59L10.3 9.45l-7.72 7.72c-.78.78-.78 2.05 0 2.83L4 21.41c.39.39.9.59 1.41.59.51 0 1.02-.2 1.41-.59l7.78-7.78 2.81-2.81c.8-.78.8-2.07 0-2.86zM5.41 20L4 18.59l7.72-7.72 1.47 1.35L5.41 20z\"/>\n",
              "  </svg>\n",
              "      </button>\n",
              "      \n",
              "  <style>\n",
              "    .colab-df-container {\n",
              "      display:flex;\n",
              "      flex-wrap:wrap;\n",
              "      gap: 12px;\n",
              "    }\n",
              "\n",
              "    .colab-df-convert {\n",
              "      background-color: #E8F0FE;\n",
              "      border: none;\n",
              "      border-radius: 50%;\n",
              "      cursor: pointer;\n",
              "      display: none;\n",
              "      fill: #1967D2;\n",
              "      height: 32px;\n",
              "      padding: 0 0 0 0;\n",
              "      width: 32px;\n",
              "    }\n",
              "\n",
              "    .colab-df-convert:hover {\n",
              "      background-color: #E2EBFA;\n",
              "      box-shadow: 0px 1px 2px rgba(60, 64, 67, 0.3), 0px 1px 3px 1px rgba(60, 64, 67, 0.15);\n",
              "      fill: #174EA6;\n",
              "    }\n",
              "\n",
              "    [theme=dark] .colab-df-convert {\n",
              "      background-color: #3B4455;\n",
              "      fill: #D2E3FC;\n",
              "    }\n",
              "\n",
              "    [theme=dark] .colab-df-convert:hover {\n",
              "      background-color: #434B5C;\n",
              "      box-shadow: 0px 1px 3px 1px rgba(0, 0, 0, 0.15);\n",
              "      filter: drop-shadow(0px 1px 2px rgba(0, 0, 0, 0.3));\n",
              "      fill: #FFFFFF;\n",
              "    }\n",
              "  </style>\n",
              "\n",
              "      <script>\n",
              "        const buttonEl =\n",
              "          document.querySelector('#df-e751957e-9d83-45d1-b6c4-21b185e5358d button.colab-df-convert');\n",
              "        buttonEl.style.display =\n",
              "          google.colab.kernel.accessAllowed ? 'block' : 'none';\n",
              "\n",
              "        async function convertToInteractive(key) {\n",
              "          const element = document.querySelector('#df-e751957e-9d83-45d1-b6c4-21b185e5358d');\n",
              "          const dataTable =\n",
              "            await google.colab.kernel.invokeFunction('convertToInteractive',\n",
              "                                                     [key], {});\n",
              "          if (!dataTable) return;\n",
              "\n",
              "          const docLinkHtml = 'Like what you see? Visit the ' +\n",
              "            '<a target=\"_blank\" href=https://colab.research.google.com/notebooks/data_table.ipynb>data table notebook</a>'\n",
              "            + ' to learn more about interactive tables.';\n",
              "          element.innerHTML = '';\n",
              "          dataTable['output_type'] = 'display_data';\n",
              "          await google.colab.output.renderOutput(dataTable, element);\n",
              "          const docLink = document.createElement('div');\n",
              "          docLink.innerHTML = docLinkHtml;\n",
              "          element.appendChild(docLink);\n",
              "        }\n",
              "      </script>\n",
              "    </div>\n",
              "  </div>\n",
              "  "
            ]
          },
          "metadata": {},
          "execution_count": 47
        }
      ]
    },
    {
      "cell_type": "markdown",
      "source": [
        "**From the above code, we can analyse the total counts, number of unique values, top values(mode) and the frequency of the mode for each and every categorical columns.**"
      ],
      "metadata": {
        "id": "XlChS2zaYHJo"
      }
    },
    {
      "cell_type": "markdown",
      "source": [
        "###**The top 10 countries with the gold medal, with the silver medal, then the bronze medal and the total medal.**"
      ],
      "metadata": {
        "id": "3-YuDakiYWGX"
      }
    },
    {
      "cell_type": "code",
      "source": [
        "#1. Top 10 countries with the gold medal\n",
        "\n",
        "medal = df2.groupby('country').sum()\n",
        "medal.sort_values(by=['gold_medal'], inplace=True)\n",
        "gold = medal.tail(10)\n",
        "fig = plt.figure(figsize=(10,5))\n",
        "plt.title(\"Top 10 countries with maximum gold medals\")\n",
        "sns.barplot(x = gold.index, y = gold.gold_medal)\n",
        "plt.xticks(rotation=90)"
      ],
      "metadata": {
        "colab": {
          "base_uri": "https://localhost:8080/",
          "height": 442
        },
        "id": "3I2mOH54am1H",
        "outputId": "f502ac55-0628-4a36-9d8b-6ccfe2eac105"
      },
      "execution_count": null,
      "outputs": [
        {
          "output_type": "execute_result",
          "data": {
            "text/plain": [
              "(array([0, 1, 2, 3, 4, 5, 6, 7, 8, 9]),\n",
              " <a list of 10 Text major ticklabel objects>)"
            ]
          },
          "metadata": {},
          "execution_count": 70
        },
        {
          "output_type": "display_data",
          "data": {
            "text/plain": [
              "<Figure size 720x360 with 1 Axes>"
            ],
            "image/png": "[encoded data removed]"
          },
          "metadata": {
            "needs_background": "light"
          }
        }
      ]
    },
    {
      "cell_type": "markdown",
      "source": [
        "**Explanation:** The above graph clearly shows that the order of countries with maximum number of gold medals is as follows:-\n",
        "\n",
        "**United States> Russia>China>Germany>.....>Netherlands**"
      ],
      "metadata": {
        "id": "jvmhhmoohzPa"
      }
    },
    {
      "cell_type": "code",
      "source": [
        "#1. Top 10 countries with the silver medal\n",
        "\n",
        "medal.sort_values(by=['silver_medal'], inplace=True)\n",
        "silver = medal.tail(10)\n",
        "fig = plt.figure(figsize=(10,5))\n",
        "plt.title(\"Top 10 countries with maximum silver medals\")\n",
        "sns.barplot(x = silver.index, y = silver.silver_medal)\n",
        "plt.xticks(rotation=90)"
      ],
      "metadata": {
        "colab": {
          "base_uri": "https://localhost:8080/",
          "height": 442
        },
        "id": "fliTJ9nFfKcO",
        "outputId": "ab52cd41-e664-4c23-f7fe-3591b02fdf59"
      },
      "execution_count": null,
      "outputs": [
        {
          "output_type": "execute_result",
          "data": {
            "text/plain": [
              "(array([0, 1, 2, 3, 4, 5, 6, 7, 8, 9]),\n",
              " <a list of 10 Text major ticklabel objects>)"
            ]
          },
          "metadata": {},
          "execution_count": 71
        },
        {
          "output_type": "display_data",
          "data": {
            "text/plain": [
              "<Figure size 720x360 with 1 Axes>"
            ],
            "image/png": "[encoded data removed]"
          },
          "metadata": {
            "needs_background": "light"
          }
        }
      ]
    },
    {
      "cell_type": "markdown",
      "source": [
        "**Explanation:** The above graph clearly shows that the order of countries with maximum number of silver medals is as follows:-\n",
        "\n",
        "**United States>Australia> Russia> Germany>.....>Italy**"
      ],
      "metadata": {
        "id": "eKZrV0t4hmm5"
      }
    },
    {
      "cell_type": "code",
      "source": [
        "# 3. Top 10 countries with bronze medals\n",
        "\n",
        "medal.sort_values(by=['brone_medal'], inplace=True)\n",
        "brone = medal.tail(10)\n",
        "fig = plt.figure(figsize=(10,5))\n",
        "plt.title(\"Top 10 countries with maximum bronze medals\")\n",
        "sns.barplot(x = brone.index, y = brone.brone_medal)\n",
        "plt.xticks(rotation=90)"
      ],
      "metadata": {
        "colab": {
          "base_uri": "https://localhost:8080/",
          "height": 442
        },
        "id": "_UOo394LfzdR",
        "outputId": "fefbd911-2ac2-47b5-d0c8-acc98ba41d6f"
      },
      "execution_count": null,
      "outputs": [
        {
          "output_type": "execute_result",
          "data": {
            "text/plain": [
              "(array([0, 1, 2, 3, 4, 5, 6, 7, 8, 9]),\n",
              " <a list of 10 Text major ticklabel objects>)"
            ]
          },
          "metadata": {},
          "execution_count": 72
        },
        {
          "output_type": "display_data",
          "data": {
            "text/plain": [
              "<Figure size 720x360 with 1 Axes>"
            ],
            "image/png": "[encoded data removed]"
          },
          "metadata": {
            "needs_background": "light"
          }
        }
      ]
    },
    {
      "cell_type": "markdown",
      "source": [
        "**Explanation:** The above graph clearly shows that the order of countries with maximum number of bronze medals is as follows:-\n",
        "\n",
        "**United States> Russia> Germany>.....>France**"
      ],
      "metadata": {
        "id": "XZdcH2l_hc8o"
      }
    },
    {
      "cell_type": "code",
      "source": [
        "# 4. Top 10 countries with the total medals.\n",
        "\n",
        "medal.sort_values(by=['total_medal'], inplace=True)\n",
        "total = medal.tail(10)\n",
        "fig = plt.figure(figsize=(10,5))\n",
        "plt.title(\"Top 10 countries with maximum total medals\")\n",
        "sns.barplot(x = total.index, y = total.total_medal)\n",
        "plt.xticks(rotation=90)"
      ],
      "metadata": {
        "colab": {
          "base_uri": "https://localhost:8080/",
          "height": 442
        },
        "id": "gsF6N2gTgIBV",
        "outputId": "76fa1306-565d-4bac-dfb6-7d1fac2a3d9d"
      },
      "execution_count": null,
      "outputs": [
        {
          "output_type": "execute_result",
          "data": {
            "text/plain": [
              "(array([0, 1, 2, 3, 4, 5, 6, 7, 8, 9]),\n",
              " <a list of 10 Text major ticklabel objects>)"
            ]
          },
          "metadata": {},
          "execution_count": 73
        },
        {
          "output_type": "display_data",
          "data": {
            "text/plain": [
              "<Figure size 720x360 with 1 Axes>"
            ],
            "image/png": "[encoded data removed]"
          },
          "metadata": {
            "needs_background": "light"
          }
        }
      ]
    },
    {
      "cell_type": "markdown",
      "source": [
        "**Explanation:** The above graph clearly shows that the order of countries with maximum number of total medals is as follows:-\n",
        "\n",
        "**United States> Russia> Germany>.....>Netherlands**"
      ],
      "metadata": {
        "id": "n-ELO6e7g8Vl"
      }
    },
    {
      "cell_type": "markdown",
      "source": [
        "\n",
        "\n",
        "---\n",
        "\n",
        "---\n",
        "\n",
        "\n",
        "\n"
      ],
      "metadata": {
        "id": "mAGWzrOKhXPm"
      }
    },
    {
      "cell_type": "markdown",
      "source": [
        "##**PART-3(PySpark)**"
      ],
      "metadata": {
        "id": "uS897piGiBRa"
      }
    },
    {
      "cell_type": "markdown",
      "source": [
        "##Installing and Initializing Pyspark"
      ],
      "metadata": {
        "id": "c2x9gwfsicJk"
      }
    },
    {
      "cell_type": "code",
      "source": [
        "pip install pyspark"
      ],
      "metadata": {
        "colab": {
          "base_uri": "https://localhost:8080/"
        },
        "id": "2Z9ihLDonMq1",
        "outputId": "f0739688-247c-46be-b69a-2a1f7e06bb79"
      },
      "execution_count": null,
      "outputs": [
        {
          "output_type": "stream",
          "name": "stdout",
          "text": [
            "Looking in indexes: https://pypi.org/simple, https://us-python.pkg.dev/colab-wheels/public/simple/\n",
            "Collecting pyspark\n",
            "  Downloading pyspark-3.3.0.tar.gz (281.3 MB)\n",
            "\u001b[K     |████████████████████████████████| 281.3 MB 44 kB/s \n",
            "\u001b[?25hCollecting py4j==0.10.9.5\n",
            "  Downloading py4j-0.10.9.5-py2.py3-none-any.whl (199 kB)\n",
            "\u001b[K     |████████████████████████████████| 199 kB 64.7 MB/s \n",
            "\u001b[?25hBuilding wheels for collected packages: pyspark\n",
            "  Building wheel for pyspark (setup.py) ... \u001b[?25l\u001b[?25hdone\n",
            "  Created wheel for pyspark: filename=pyspark-3.3.0-py2.py3-none-any.whl size=281764026 sha256=2a3e2d2c2018093096b04d7c7414fdbfeb0a013c71b80b0b8a4a58a4c709f476\n",
            "  Stored in directory: /root/.cache/pip/wheels/7a/8e/1b/f73a52650d2e5f337708d9f6a1750d451a7349a867f928b885\n",
            "Successfully built pyspark\n",
            "Installing collected packages: py4j, pyspark\n",
            "Successfully installed py4j-0.10.9.5 pyspark-3.3.0\n"
          ]
        }
      ]
    },
    {
      "cell_type": "code",
      "source": [
        "#Initializing PySpark\n",
        "from pyspark import SparkContext, SparkConf\n",
        "from pyspark.sql import SparkSession\n",
        "from pyspark.sql import SQLContext\n",
        "# #Spark Config\n",
        "conf = SparkConf().setAppName(\"sample_app\")\n",
        "sc = SparkContext(conf=conf)\n",
        "spark = SparkSession.builder.appName('Test').getOrCreate()\n",
        "sqlContext = SQLContext(sc)"
      ],
      "metadata": {
        "colab": {
          "base_uri": "https://localhost:8080/"
        },
        "id": "OsQWZL5lnfXq",
        "outputId": "a359e4bb-83f9-4ffa-8d19-270da31a0aba"
      },
      "execution_count": null,
      "outputs": [
        {
          "output_type": "stream",
          "name": "stderr",
          "text": [
            "/usr/local/lib/python3.7/dist-packages/pyspark/sql/context.py:114: FutureWarning:\n",
            "\n",
            "Deprecated in 3.0.0. Use SparkSession.builder.getOrCreate() instead.\n",
            "\n"
          ]
        }
      ]
    },
    {
      "cell_type": "markdown",
      "source": [
        "###Converting pandas dataframe to Pyspark dataframe"
      ],
      "metadata": {
        "id": "Ls8JPO0-nhab"
      }
    },
    {
      "cell_type": "code",
      "source": [
        "sparkDF=spark.createDataFrame(df2) \n",
        "sparkDF.printSchema()\n",
        "sparkDF.show()\n"
      ],
      "metadata": {
        "colab": {
          "base_uri": "https://localhost:8080/"
        },
        "id": "hJ50eWgdnn8q",
        "outputId": "c814a944-b0ac-4240-d14e-1ad6982a6f51"
      },
      "execution_count": null,
      "outputs": [
        {
          "output_type": "stream",
          "name": "stdout",
          "text": [
            "root\n",
            " |-- name: string (nullable = true)\n",
            " |-- age: double (nullable = true)\n",
            " |-- country: string (nullable = true)\n",
            " |-- year: long (nullable = true)\n",
            " |-- Date_Given: string (nullable = true)\n",
            " |-- sports: string (nullable = true)\n",
            " |-- gold_medal: long (nullable = true)\n",
            " |-- silver_medal: long (nullable = true)\n",
            " |-- brone_medal: long (nullable = true)\n",
            " |-- total_medal: long (nullable = true)\n",
            "\n",
            "+------------------+----+-------+----+----------+----------+----------+------------+-----------+-----------+\n",
            "|              name| age|country|year|Date_Given|    sports|gold_medal|silver_medal|brone_medal|total_medal|\n",
            "+------------------+----+-------+----+----------+----------+----------+------------+-----------+-----------+\n",
            "| Antero Niittymäki|25.0|Finland|2006| 2/26/2006|Ice Hockey|         0|           1|          0|          1|\n",
            "|       Paolo Cozzi|24.0|  Italy|2004| 8/29/2004|Volleyball|         0|           1|          0|          1|\n",
            "|   Ruslan Olikhver|31.0| Russia|2000|10-01-2000|Volleyball|         0|           1|          0|          1|\n",
            "|  Vivian Cheruiyot|28.0|  Kenya|2012|08-12-2012| Athletics|         0|           1|          1|          2|\n",
            "|              Kiki|20.0| Brazil|2000|10-01-2000|Volleyball|         0|           0|          1|          1|\n",
            "|  Aleksey Kuleshov|21.0| Russia|2000|10-01-2000|Volleyball|         0|           1|          0|          1|\n",
            "|             Leila|28.0| Brazil|2000|10-01-2000|Volleyball|         0|           0|          1|          1|\n",
            "| Luigi Mastrangelo|25.0|  Italy|2000|10-01-2000|Volleyball|         0|           0|          1|          1|\n",
            "|       Marco Meoni|27.0|  Italy|2000|10-01-2000|Volleyball|         0|           0|          1|          1|\n",
            "|  Yoshie Takeshita|34.0|  Japan|2012|08-12-2012|Volleyball|         0|           0|          1|          1|\n",
            "|    Yevgeny Mitkov|28.0| Russia|2000|10-01-2000|Volleyball|         0|           1|          0|          1|\n",
            "|Vadim Khamuttskikh|30.0| Russia|2000|10-01-2000|Volleyball|         0|           1|          0|          1|\n",
            "|             Sidão|30.0| Brazil|2012|08-12-2012|Volleyball|         0|           1|          0|          1|\n",
            "|      Samuele Papi|27.0|  Italy|2000|10-01-2000|Volleyball|         0|           0|          1|          1|\n",
            "|   Alberto Cisolla|26.0|  Italy|2004| 8/29/2004|Volleyball|         0|           1|          0|          1|\n",
            "|    Olga Chukanova|24.0| Russia|2004| 8/29/2004|Volleyball|         0|           1|          0|          1|\n",
            "|     Mai Yamaguchi|29.0|  Japan|2012|08-12-2012|Volleyball|         0|           0|          1|          1|\n",
            "|         Yuko Sano|33.0|  Japan|2012|08-12-2012|Volleyball|         0|           0|          1|          1|\n",
            "|   Cristian Savani|30.0|  Italy|2012|08-12-2012|Volleyball|         0|           0|          1|          1|\n",
            "| Nataliya Morozova|27.0| Russia|2000|10-01-2000|Volleyball|         0|           1|          0|          1|\n",
            "+------------------+----+-------+----+----------+----------+----------+------------+-----------+-----------+\n",
            "only showing top 20 rows\n",
            "\n"
          ]
        }
      ]
    },
    {
      "cell_type": "markdown",
      "source": [
        "**Explanation:** Firstly, I have created a spark dataframe and load the converted pandas dataframe into it.\n",
        "\n",
        "Then, I have print the schema of the dataset which provides info about the data columns and their types. Then, I used show() method to display my spark dataframe."
      ],
      "metadata": {
        "id": "4HtVY5zmq8La"
      }
    },
    {
      "cell_type": "code",
      "source": [
        "# Write PySpark code to read the olympix_data.csv file\n",
        "\n",
        "df3 = spark.read.format(\"csv\").option(\"header\",\"true\").option(\"inferSchema\",\"true\").load(\"/content/olympix_data_organized_with_header (1) (1).csv\")\n",
        "df3.show()"
      ],
      "metadata": {
        "colab": {
          "base_uri": "https://localhost:8080/"
        },
        "id": "A0t6A_jBo2lH",
        "outputId": "018e2cf8-06d3-43da-d68e-43663eca443d"
      },
      "execution_count": null,
      "outputs": [
        {
          "output_type": "stream",
          "name": "stdout",
          "text": [
            "+--------------------+---+-------------+----+----------+--------------------+----------+------------+-----------+-----------+\n",
            "|                name|age|      country|year|Date_Given|              sports|gold_medal|silver_medal|brone_medal|total_medal|\n",
            "+--------------------+---+-------------+----+----------+--------------------+----------+------------+-----------+-----------+\n",
            "|      Michael Phelps| 23|United States|2008| 8/24/2008|            Swimming|         8|           0|          0|          8|\n",
            "|      Michael Phelps| 19|United States|2004| 8/29/2004|            Swimming|         6|           0|          2|          8|\n",
            "|      Michael Phelps| 27|United States|2012|08-12-2012|            Swimming|         4|           2|          0|          6|\n",
            "|    Natalie Coughlin| 25|United States|2008| 8/24/2008|            Swimming|         1|           2|          3|          6|\n",
            "|       Aleksey Nemov| 24|       Russia|2000|10-01-2000|          Gymnastics|         2|           1|          3|          6|\n",
            "|       Alicia Coutts| 24|    Australia|2012|08-12-2012|            Swimming|         1|           3|          1|          5|\n",
            "|      Missy Franklin| 17|United States|2012|08-12-2012|            Swimming|         4|           0|          1|          5|\n",
            "|         Ryan Lochte| 27|United States|2012|08-12-2012|            Swimming|         2|           2|          1|          5|\n",
            "|     Allison Schmitt| 22|United States|2012|08-12-2012|            Swimming|         3|           1|          1|          5|\n",
            "|    Natalie Coughlin| 21|United States|2004| 8/29/2004|            Swimming|         2|           2|          1|          5|\n",
            "|          Ian Thorpe| 17|    Australia|2000|10-01-2000|            Swimming|         3|           2|          0|          5|\n",
            "|         Dara Torres| 33|United States|2000|10-01-2000|            Swimming|         2|           0|          3|          5|\n",
            "|       Cindy Klassen| 26|       Canada|2006| 2/26/2006|       Speed Skating|         1|           2|          2|          5|\n",
            "|       Nastia Liukin| 18|United States|2008| 8/24/2008|          Gymnastics|         1|           3|          1|          5|\n",
            "|       Marit Bjørgen| 29|       Norway|2010| 2/28/2010|Cross Country Skiing|         3|           1|          1|          5|\n",
            "|            Sun Yang| 20|        China|2012|08-12-2012|            Swimming|         2|           1|          1|          4|\n",
            "|     Kirsty Coventry| 24|     Zimbabwe|2008| 8/24/2008|            Swimming|         1|           3|          0|          4|\n",
            "|Libby Lenton-Tric...| 23|    Australia|2008| 8/24/2008|            Swimming|         2|           1|          1|          4|\n",
            "|         Ryan Lochte| 24|United States|2008| 8/24/2008|            Swimming|         2|           0|          2|          4|\n",
            "|      Inge de Bruijn| 30|  Netherlands|2004| 8/29/2004|            Swimming|         1|           1|          2|          4|\n",
            "+--------------------+---+-------------+----+----------+--------------------+----------+------------+-----------+-----------+\n",
            "only showing top 20 rows\n",
            "\n"
          ]
        }
      ]
    },
    {
      "cell_type": "markdown",
      "source": [
        "**Explanation:** I have used read.format() method to read the csv file and load it into a dataframe with name df3.\n",
        "\n",
        "Then, used show() method to display the df3 dataframe."
      ],
      "metadata": {
        "id": "w9DJzc0ErwSD"
      }
    },
    {
      "cell_type": "code",
      "source": [
        "# Write PySpark code to print the Olympic Sports/games in the dataset.\n",
        "\n",
        "sparkDF.select(sparkDF.columns[5]).show()"
      ],
      "metadata": {
        "colab": {
          "base_uri": "https://localhost:8080/"
        },
        "id": "N9LL1zeTqQYi",
        "outputId": "e5cf7c31-c9f3-4c9a-ec79-89ac6b11c38a"
      },
      "execution_count": null,
      "outputs": [
        {
          "output_type": "stream",
          "name": "stdout",
          "text": [
            "+----------+\n",
            "|    sports|\n",
            "+----------+\n",
            "|Ice Hockey|\n",
            "|Volleyball|\n",
            "|Volleyball|\n",
            "| Athletics|\n",
            "|Volleyball|\n",
            "|Volleyball|\n",
            "|Volleyball|\n",
            "|Volleyball|\n",
            "|Volleyball|\n",
            "|Volleyball|\n",
            "|Volleyball|\n",
            "|Volleyball|\n",
            "|Volleyball|\n",
            "|Volleyball|\n",
            "|Volleyball|\n",
            "|Volleyball|\n",
            "|Volleyball|\n",
            "|Volleyball|\n",
            "|Volleyball|\n",
            "|Volleyball|\n",
            "+----------+\n",
            "only showing top 20 rows\n",
            "\n"
          ]
        }
      ]
    },
    {
      "cell_type": "markdown",
      "source": [
        "**Explanation:** Here, I used select function to select and display the sports column from our spark dataframe."
      ],
      "metadata": {
        "id": "X3tnRLNJsA4K"
      }
    },
    {
      "cell_type": "code",
      "source": [
        "# Write PySpark code to plot the total number of medals in  each Olympic Sport/game\n",
        "\n",
        "fig = plt.figure(figsize=(30,15))\n",
        "res = sparkDF.groupBy(\"country\").agg({\"total_medal\":\"sum\"})\n",
        "res = res.withColumnRenamed(\"sum(total_medal)\",\"total_medal\")\n",
        "get_Pandas_DF = res.toPandas() # we can use toPandas() for converting pyspark dataframe to Pandas dataframe\n",
        "get_Pandas_DF.plot.bar(x=\"country\",y=\"total_medal\",title=\"the number of medals in each sport\")\n",
        "plt.show(block=True)"
      ],
      "metadata": {
        "colab": {
          "base_uri": "https://localhost:8080/",
          "height": 419
        },
        "id": "syRVtUppsQHs",
        "outputId": "68d5a9d5-ab57-4669-9a56-f46d15013346"
      },
      "execution_count": null,
      "outputs": [
        {
          "output_type": "display_data",
          "data": {
            "text/plain": [
              "<Figure size 2160x1080 with 0 Axes>"
            ]
          },
          "metadata": {}
        },
        {
          "output_type": "display_data",
          "data": {
            "text/plain": [
              "<Figure size 432x288 with 1 Axes>"
            ],
            "image/png": "[encoded data removed]"
          },
          "metadata": {
            "needs_background": "light"
          }
        }
      ]
    },
    {
      "cell_type": "markdown",
      "source": [
        "**Explanation:** Firstly, we will use groupby and sum aggregate function to group the data based on each sports. Then, to use matplotlib we have to convert our spark df into pandas df.\n",
        "\n",
        "After converting the spark df into pandas df, we will plot bar graph normally as we do in python using matplotlib."
      ],
      "metadata": {
        "id": "_ag3a8oswsHl"
      }
    },
    {
      "cell_type": "code",
      "source": [
        "# Sort the result based on the total number of medals.\n",
        "\n",
        "import pyspark.sql.functions as f\n",
        "\n",
        "res = sparkDF.groupBy(\"country\").agg({\"total_medal\":\"sum\"})\n",
        "res = res.withColumnRenamed(\"sum(total_medal)\",\"total_medal\")\n",
        "sort_res=res.orderBy(f.desc(\"total_medal\"))\n",
        "sort_res.show()"
      ],
      "metadata": {
        "colab": {
          "base_uri": "https://localhost:8080/"
        },
        "id": "ZwuW1X_SwrRG",
        "outputId": "df898763-01b8-4324-ce8f-de167e141650"
      },
      "execution_count": null,
      "outputs": [
        {
          "output_type": "stream",
          "name": "stdout",
          "text": [
            "+-------------+-----------+\n",
            "|      country|total_medal|\n",
            "+-------------+-----------+\n",
            "|United States|       1312|\n",
            "|       Russia|        768|\n",
            "|      Germany|        629|\n",
            "|    Australia|        609|\n",
            "|        China|        530|\n",
            "|       Canada|        370|\n",
            "|        Italy|        331|\n",
            "|Great Britain|        322|\n",
            "|       France|        318|\n",
            "|  Netherlands|        318|\n",
            "|  South Korea|        308|\n",
            "|        Japan|        282|\n",
            "|       Brazil|        219|\n",
            "|        Spain|        205|\n",
            "|       Norway|        192|\n",
            "|         Cuba|        188|\n",
            "|       Sweden|        181|\n",
            "|      Hungary|        145|\n",
            "|      Ukraine|        143|\n",
            "|    Argentina|        140|\n",
            "+-------------+-----------+\n",
            "only showing top 20 rows\n",
            "\n"
          ]
        }
      ]
    },
    {
      "cell_type": "markdown",
      "source": [
        "**Explanation:** The above code clearly shows that United States has maximum number of total medals with 1312 medals followed by Russia with 768 medals and so on.\n",
        "\n",
        "**We can also limit our result to top 10 or top 5 countries using limit() method as shown below:-**"
      ],
      "metadata": {
        "id": "_2MSos58zVf0"
      }
    },
    {
      "cell_type": "code",
      "source": [
        "sort_res=res.orderBy(f.desc(\"total_medal\")).limit(5) # Now, we will get top 5 countries.\n",
        "sort_res.show()"
      ],
      "metadata": {
        "colab": {
          "base_uri": "https://localhost:8080/"
        },
        "id": "kX6vZJ1Pz9vT",
        "outputId": "ade1db10-75b7-496b-92fe-b7eb9aa9e95c"
      },
      "execution_count": null,
      "outputs": [
        {
          "output_type": "stream",
          "name": "stdout",
          "text": [
            "+-------------+-----------+\n",
            "|      country|total_medal|\n",
            "+-------------+-----------+\n",
            "|United States|       1312|\n",
            "|       Russia|        768|\n",
            "|      Germany|        629|\n",
            "|    Australia|        609|\n",
            "|        China|        530|\n",
            "+-------------+-----------+\n",
            "\n"
          ]
        }
      ]
    },
    {
      "cell_type": "code",
      "source": [
        "# Find the total number of medals won by each country in swimming.\n",
        "\n",
        "res1 = sparkDF.groupBy(\"country\",\"sports\").agg({\"total_medal\":\"sum\"})\n",
        "res1 = res1.withColumnRenamed(\"sum(total_medal)\",\"total_medal\")\n",
        "get_swimming_data=res1.filter(res1['sports']=='Swimming')\n",
        "get_swimming_data.show()"
      ],
      "metadata": {
        "colab": {
          "base_uri": "https://localhost:8080/"
        },
        "id": "zPXrvp390Pd5",
        "outputId": "b10597ce-69b2-44b4-f64d-c24dd9ab2038"
      },
      "execution_count": null,
      "outputs": [
        {
          "output_type": "stream",
          "name": "stdout",
          "text": [
            "+-------------------+--------+-----------+\n",
            "|            country|  sports|total_medal|\n",
            "+-------------------+--------+-----------+\n",
            "|            Croatia|Swimming|          1|\n",
            "|          Australia|Swimming|        163|\n",
            "|              Japan|Swimming|         43|\n",
            "|            Denmark|Swimming|          1|\n",
            "|           Slovenia|Swimming|          1|\n",
            "|        South Korea|Swimming|          4|\n",
            "|Trinidad and Tobago|Swimming|          1|\n",
            "|            Romania|Swimming|          6|\n",
            "|           Slovakia|Swimming|          2|\n",
            "|             France|Swimming|         39|\n",
            "|             Sweden|Swimming|          9|\n",
            "|            Hungary|Swimming|          9|\n",
            "|              Italy|Swimming|         16|\n",
            "|             Norway|Swimming|          2|\n",
            "|          Argentina|Swimming|          1|\n",
            "|         Costa Rica|Swimming|          2|\n",
            "|             Brazil|Swimming|          8|\n",
            "|      Great Britain|Swimming|         11|\n",
            "|       South Africa|Swimming|         11|\n",
            "|              Spain|Swimming|          3|\n",
            "+-------------------+--------+-----------+\n",
            "only showing top 20 rows\n",
            "\n"
          ]
        }
      ]
    },
    {
      "cell_type": "markdown",
      "source": [
        "**Explanation:** Here apart from grouping our data we had filter it using filter() method based on the sport we wanted to dispaly."
      ],
      "metadata": {
        "id": "gskhlG3M1WV2"
      }
    },
    {
      "cell_type": "code",
      "source": [
        "# Find the total number of medals won by each country in Skeleton.\n",
        "\n",
        "res2 = sparkDF.groupBy(\"country\",\"sports\").agg({\"total_medal\":\"sum\"})\n",
        "res2 = res2.withColumnRenamed(\"sum(total_medal)\",\"total_medal\")\n",
        "get_skeleton_data=res2.filter(res2['sports']=='Skeleton')\n",
        "get_skeleton_data.show()"
      ],
      "metadata": {
        "colab": {
          "base_uri": "https://localhost:8080/"
        },
        "id": "xXe4090G1uKr",
        "outputId": "92492fb1-69fe-4145-8595-e07e56060d98"
      },
      "execution_count": null,
      "outputs": [
        {
          "output_type": "stream",
          "name": "stdout",
          "text": [
            "+-------------+--------+-----------+\n",
            "|      country|  sports|total_medal|\n",
            "+-------------+--------+-----------+\n",
            "|       Canada|Skeleton|          4|\n",
            "|       Russia|Skeleton|          1|\n",
            "|United States|Skeleton|          3|\n",
            "|      Germany|Skeleton|          2|\n",
            "|       Latvia|Skeleton|          1|\n",
            "|      Austria|Skeleton|          1|\n",
            "|Great Britain|Skeleton|          3|\n",
            "|  Switzerland|Skeleton|          3|\n",
            "+-------------+--------+-----------+\n",
            "\n"
          ]
        }
      ]
    },
    {
      "cell_type": "code",
      "source": [
        "# Find the number of medals that the US won yearly.\n",
        "\n",
        "res3 = sparkDF.groupBy(\"year\",\"country\").agg({\"total_medal\":\"sum\"})\n",
        "res3 = res3.withColumnRenamed(\"sum(total_medal)\",\"total_medal\")\n",
        "get_us_data=res3.filter(res3['country']=='United States')\n",
        "get_us_data.show()"
      ],
      "metadata": {
        "colab": {
          "base_uri": "https://localhost:8080/"
        },
        "id": "GOlHKcpT2eQJ",
        "outputId": "46576efc-9e6b-4c15-8cac-e1e5e5d692e5"
      },
      "execution_count": null,
      "outputs": [
        {
          "output_type": "stream",
          "name": "stdout",
          "text": [
            "+----+-------------+-----------+\n",
            "|year|      country|total_medal|\n",
            "+----+-------------+-----------+\n",
            "|2004|United States|        265|\n",
            "|2010|United States|         97|\n",
            "|2002|United States|         84|\n",
            "|2006|United States|         52|\n",
            "|2008|United States|        317|\n",
            "|2000|United States|        243|\n",
            "|2012|United States|        254|\n",
            "+----+-------------+-----------+\n",
            "\n"
          ]
        }
      ]
    },
    {
      "cell_type": "markdown",
      "source": [
        "**Explanation:** Here also, I have used the same logic as above, just changed the column names according to the requirement of the question."
      ],
      "metadata": {
        "id": "cltyXxXG3Cdz"
      }
    },
    {
      "cell_type": "code",
      "source": [
        "#Find the total number of medals won by each country.\n",
        "\n",
        "res4 = sparkDF.groupBy(\"country\").agg({\"total_medal\":\"sum\"})\n",
        "res4 = res4.withColumnRenamed(\"sum(total_medal)\",\"total_medal\")\n",
        "res4.show()"
      ],
      "metadata": {
        "colab": {
          "base_uri": "https://localhost:8080/"
        },
        "id": "so-NvX_i3TJi",
        "outputId": "0b9066fc-7259-4012-c235-119c562102be"
      },
      "execution_count": null,
      "outputs": [
        {
          "output_type": "stream",
          "name": "stdout",
          "text": [
            "+--------------+-----------+\n",
            "|       country|total_medal|\n",
            "+--------------+-----------+\n",
            "|        Russia|        768|\n",
            "|      Paraguay|         17|\n",
            "|Chinese Taipei|         20|\n",
            "|        Sweden|        181|\n",
            "|     Singapore|          7|\n",
            "|      Malaysia|          3|\n",
            "|        Turkey|         28|\n",
            "|       Germany|        629|\n",
            "|   Afghanistan|          2|\n",
            "|        France|        318|\n",
            "|        Greece|         59|\n",
            "|       Algeria|          8|\n",
            "|          Togo|          1|\n",
            "|      Slovakia|         35|\n",
            "|     Argentina|        140|\n",
            "|       Belgium|         18|\n",
            "| Great Britain|        322|\n",
            "|         Qatar|          3|\n",
            "|       Finland|        118|\n",
            "| United States|       1312|\n",
            "+--------------+-----------+\n",
            "only showing top 20 rows\n",
            "\n"
          ]
        }
      ]
    },
    {
      "cell_type": "code",
      "source": [
        "# Who was the oldest athlete in the olympics? \n",
        "\n",
        "res5 = sparkDF.select(\"age\").agg({\"age\":\"max\"})\n",
        "res5.show()"
      ],
      "metadata": {
        "colab": {
          "base_uri": "https://localhost:8080/"
        },
        "id": "fUG-Lxch-a1D",
        "outputId": "711d9334-1cfa-47ca-89dd-7ada930bb0e7"
      },
      "execution_count": null,
      "outputs": [
        {
          "output_type": "stream",
          "name": "stdout",
          "text": [
            "+--------+\n",
            "|max(age)|\n",
            "+--------+\n",
            "|    61.0|\n",
            "+--------+\n",
            "\n"
          ]
        }
      ]
    },
    {
      "cell_type": "code",
      "source": [
        "\n",
        "sparkDF.createOrReplaceTempView(\"table1\")\n",
        "res5 = spark.sql(\"select name as Oldest_Athlete,age from table1 where age>60\")\n",
        "res5.show()"
      ],
      "metadata": {
        "colab": {
          "base_uri": "https://localhost:8080/"
        },
        "id": "F2dCAjk53nsI",
        "outputId": "fec60888-09e7-4d02-90ec-4dcf8df3e958"
      },
      "execution_count": null,
      "outputs": [
        {
          "output_type": "stream",
          "name": "stdout",
          "text": [
            "+--------------+----+\n",
            "|Oldest_Athlete| age|\n",
            "+--------------+----+\n",
            "|    Ian Millar|61.0|\n",
            "+--------------+----+\n",
            "\n"
          ]
        }
      ]
    },
    {
      "cell_type": "markdown",
      "source": [
        "**Explanation:** For the above question, I have divided the code into 2 parts.\n",
        "\n",
        "First part of code, I found that maximum age present in our database is 61 and using that in 2nd part of code with the help of spark.sql() function, I displayed the name and age of the athlete."
      ],
      "metadata": {
        "id": "HEgbKRUN_F-c"
      }
    },
    {
      "cell_type": "code",
      "source": [
        "# Which country was he/she from?\n",
        "\n",
        "sparkDF.createOrReplaceTempView(\"table1\")\n",
        "res6 = spark.sql(\"select country,name,age from table1 where age>60\")\n",
        "res6.show()"
      ],
      "metadata": {
        "colab": {
          "base_uri": "https://localhost:8080/"
        },
        "id": "0r1hDQuW_6VU",
        "outputId": "2bfeee3e-11c5-4be3-c46b-006896724c6a"
      },
      "execution_count": null,
      "outputs": [
        {
          "output_type": "stream",
          "name": "stdout",
          "text": [
            "+-------+----------+----+\n",
            "|country|      name| age|\n",
            "+-------+----------+----+\n",
            "| Canada|Ian Millar|61.0|\n",
            "+-------+----------+----+\n",
            "\n"
          ]
        }
      ]
    },
    {
      "cell_type": "markdown",
      "source": [
        "**Explanation:** Again, I have used sql query to find the country of oldest athlete which is canada."
      ],
      "metadata": {
        "id": "lMRiiAX4B1XI"
      }
    },
    {
      "cell_type": "markdown",
      "source": [
        "\n",
        "\n",
        "---\n",
        "\n",
        "\n",
        "\n",
        "---\n",
        "\n",
        "\n"
      ],
      "metadata": {
        "id": "-jXSXPovCC-M"
      }
    }
  ]
}
